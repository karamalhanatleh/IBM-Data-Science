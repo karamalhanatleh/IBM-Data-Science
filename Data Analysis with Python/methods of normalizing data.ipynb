{
 "cells": [
  {
   "cell_type": "markdown",
   "id": "6fbc4c92",
   "metadata": {},
   "source": [
    "# methods of normalizing data"
   ]
  },
  {
   "cell_type": "code",
   "execution_count": 1,
   "id": "28a48690",
   "metadata": {},
   "outputs": [],
   "source": [
    "#import\n",
    "import pandas as pd"
   ]
  },
  {
   "cell_type": "code",
   "execution_count": 2,
   "id": "ede06900",
   "metadata": {},
   "outputs": [],
   "source": [
    "age=[20,30,40,50]\n",
    "income=[1000,1500,2000,2500]"
   ]
  },
  {
   "cell_type": "code",
   "execution_count": 3,
   "id": "f08178df",
   "metadata": {},
   "outputs": [],
   "source": [
    "df= pd.DataFrame({'age':age,\n",
    "             'income':income})"
   ]
  },
  {
   "cell_type": "code",
   "execution_count": 4,
   "id": "efaf342e",
   "metadata": {
    "scrolled": true
   },
   "outputs": [
    {
     "data": {
      "text/html": [
       "<div>\n",
       "<style scoped>\n",
       "    .dataframe tbody tr th:only-of-type {\n",
       "        vertical-align: middle;\n",
       "    }\n",
       "\n",
       "    .dataframe tbody tr th {\n",
       "        vertical-align: top;\n",
       "    }\n",
       "\n",
       "    .dataframe thead th {\n",
       "        text-align: right;\n",
       "    }\n",
       "</style>\n",
       "<table border=\"1\" class=\"dataframe\">\n",
       "  <thead>\n",
       "    <tr style=\"text-align: right;\">\n",
       "      <th></th>\n",
       "      <th>age</th>\n",
       "      <th>income</th>\n",
       "    </tr>\n",
       "  </thead>\n",
       "  <tbody>\n",
       "    <tr>\n",
       "      <th>0</th>\n",
       "      <td>20</td>\n",
       "      <td>1000</td>\n",
       "    </tr>\n",
       "    <tr>\n",
       "      <th>1</th>\n",
       "      <td>30</td>\n",
       "      <td>1500</td>\n",
       "    </tr>\n",
       "    <tr>\n",
       "      <th>2</th>\n",
       "      <td>40</td>\n",
       "      <td>2000</td>\n",
       "    </tr>\n",
       "    <tr>\n",
       "      <th>3</th>\n",
       "      <td>50</td>\n",
       "      <td>2500</td>\n",
       "    </tr>\n",
       "  </tbody>\n",
       "</table>\n",
       "</div>"
      ],
      "text/plain": [
       "   age  income\n",
       "0   20    1000\n",
       "1   30    1500\n",
       "2   40    2000\n",
       "3   50    2500"
      ]
     },
     "execution_count": 4,
     "metadata": {},
     "output_type": "execute_result"
    }
   ],
   "source": [
    "df"
   ]
  },
  {
   "cell_type": "code",
   "execution_count": null,
   "id": "0cabb08c",
   "metadata": {},
   "outputs": [],
   "source": []
  },
  {
   "cell_type": "code",
   "execution_count": 5,
   "id": "a5c4eb2d",
   "metadata": {},
   "outputs": [],
   "source": [
    "age_norm=[]\n",
    "for i in df.age:\n",
    "    age_norm.append(i/df.age.max())"
   ]
  },
  {
   "cell_type": "code",
   "execution_count": 6,
   "id": "adcaeb3c",
   "metadata": {},
   "outputs": [
    {
     "data": {
      "text/html": [
       "<div>\n",
       "<style scoped>\n",
       "    .dataframe tbody tr th:only-of-type {\n",
       "        vertical-align: middle;\n",
       "    }\n",
       "\n",
       "    .dataframe tbody tr th {\n",
       "        vertical-align: top;\n",
       "    }\n",
       "\n",
       "    .dataframe thead th {\n",
       "        text-align: right;\n",
       "    }\n",
       "</style>\n",
       "<table border=\"1\" class=\"dataframe\">\n",
       "  <thead>\n",
       "    <tr style=\"text-align: right;\">\n",
       "      <th></th>\n",
       "      <th>age</th>\n",
       "      <th>income</th>\n",
       "      <th>age_norm</th>\n",
       "    </tr>\n",
       "  </thead>\n",
       "  <tbody>\n",
       "    <tr>\n",
       "      <th>0</th>\n",
       "      <td>20</td>\n",
       "      <td>1000</td>\n",
       "      <td>0.4</td>\n",
       "    </tr>\n",
       "    <tr>\n",
       "      <th>1</th>\n",
       "      <td>30</td>\n",
       "      <td>1500</td>\n",
       "      <td>0.6</td>\n",
       "    </tr>\n",
       "    <tr>\n",
       "      <th>2</th>\n",
       "      <td>40</td>\n",
       "      <td>2000</td>\n",
       "      <td>0.8</td>\n",
       "    </tr>\n",
       "    <tr>\n",
       "      <th>3</th>\n",
       "      <td>50</td>\n",
       "      <td>2500</td>\n",
       "      <td>1.0</td>\n",
       "    </tr>\n",
       "  </tbody>\n",
       "</table>\n",
       "</div>"
      ],
      "text/plain": [
       "   age  income  age_norm\n",
       "0   20    1000       0.4\n",
       "1   30    1500       0.6\n",
       "2   40    2000       0.8\n",
       "3   50    2500       1.0"
      ]
     },
     "execution_count": 6,
     "metadata": {},
     "output_type": "execute_result"
    }
   ],
   "source": [
    "df['age_norm']=age_norm\n",
    "df"
   ]
  },
  {
   "cell_type": "code",
   "execution_count": 7,
   "id": "1e259442",
   "metadata": {},
   "outputs": [],
   "source": [
    "income_norm=[]\n",
    "for i in df.age:\n",
    "    income_norm.append(i/df.income.max())"
   ]
  },
  {
   "cell_type": "code",
   "execution_count": 8,
   "id": "878a6bef",
   "metadata": {},
   "outputs": [
    {
     "data": {
      "text/html": [
       "<div>\n",
       "<style scoped>\n",
       "    .dataframe tbody tr th:only-of-type {\n",
       "        vertical-align: middle;\n",
       "    }\n",
       "\n",
       "    .dataframe tbody tr th {\n",
       "        vertical-align: top;\n",
       "    }\n",
       "\n",
       "    .dataframe thead th {\n",
       "        text-align: right;\n",
       "    }\n",
       "</style>\n",
       "<table border=\"1\" class=\"dataframe\">\n",
       "  <thead>\n",
       "    <tr style=\"text-align: right;\">\n",
       "      <th></th>\n",
       "      <th>age</th>\n",
       "      <th>income</th>\n",
       "      <th>age_norm</th>\n",
       "      <th>income_norm</th>\n",
       "    </tr>\n",
       "  </thead>\n",
       "  <tbody>\n",
       "    <tr>\n",
       "      <th>0</th>\n",
       "      <td>20</td>\n",
       "      <td>1000</td>\n",
       "      <td>0.4</td>\n",
       "      <td>0.008</td>\n",
       "    </tr>\n",
       "    <tr>\n",
       "      <th>1</th>\n",
       "      <td>30</td>\n",
       "      <td>1500</td>\n",
       "      <td>0.6</td>\n",
       "      <td>0.012</td>\n",
       "    </tr>\n",
       "    <tr>\n",
       "      <th>2</th>\n",
       "      <td>40</td>\n",
       "      <td>2000</td>\n",
       "      <td>0.8</td>\n",
       "      <td>0.016</td>\n",
       "    </tr>\n",
       "    <tr>\n",
       "      <th>3</th>\n",
       "      <td>50</td>\n",
       "      <td>2500</td>\n",
       "      <td>1.0</td>\n",
       "      <td>0.020</td>\n",
       "    </tr>\n",
       "  </tbody>\n",
       "</table>\n",
       "</div>"
      ],
      "text/plain": [
       "   age  income  age_norm  income_norm\n",
       "0   20    1000       0.4        0.008\n",
       "1   30    1500       0.6        0.012\n",
       "2   40    2000       0.8        0.016\n",
       "3   50    2500       1.0        0.020"
      ]
     },
     "execution_count": 8,
     "metadata": {},
     "output_type": "execute_result"
    }
   ],
   "source": [
    "df['income_norm']=income_norm\n",
    "df"
   ]
  },
  {
   "cell_type": "code",
   "execution_count": null,
   "id": "76f4a2eb",
   "metadata": {},
   "outputs": [],
   "source": []
  },
  {
   "cell_type": "code",
   "execution_count": null,
   "id": "b42c0ee8",
   "metadata": {},
   "outputs": [],
   "source": [
    "    "
   ]
  },
  {
   "cell_type": "code",
   "execution_count": 9,
   "id": "6e714df9",
   "metadata": {},
   "outputs": [],
   "source": [
    "def normalize(data):\n",
    "    \"\"\"\n",
    "    Normalize the given data using min-max scaling.\n",
    "    \"\"\"\n",
    "    min_val = min(data)\n",
    "    max_val = max(data)\n",
    "    normalized = []\n",
    "    for x in data:\n",
    "        normalized.append((x - min_val) / (max_val - min_val))\n",
    "    return normalized"
   ]
  },
  {
   "cell_type": "markdown",
   "id": "a5b6b910",
   "metadata": {},
   "source": [
    "## Simple Feature Scaling "
   ]
  },
  {
   "cell_type": "code",
   "execution_count": 10,
   "id": "e8853ced",
   "metadata": {},
   "outputs": [
    {
     "data": {
      "text/plain": [
       "0    0.4\n",
       "1    0.6\n",
       "2    0.8\n",
       "3    1.0\n",
       "Name: age, dtype: float64"
      ]
     },
     "execution_count": 10,
     "metadata": {},
     "output_type": "execute_result"
    }
   ],
   "source": [
    "df['age']/df['age'].max()"
   ]
  },
  {
   "cell_type": "code",
   "execution_count": null,
   "id": "cc10f8db",
   "metadata": {},
   "outputs": [],
   "source": []
  },
  {
   "cell_type": "markdown",
   "id": "9231bcfb",
   "metadata": {},
   "source": [
    "## Min-Max"
   ]
  },
  {
   "cell_type": "code",
   "execution_count": 11,
   "id": "877b9af7",
   "metadata": {
    "scrolled": true
   },
   "outputs": [
    {
     "data": {
      "text/plain": [
       "0    0.000000\n",
       "1    0.333333\n",
       "2    0.666667\n",
       "3    1.000000\n",
       "Name: age, dtype: float64"
      ]
     },
     "execution_count": 11,
     "metadata": {},
     "output_type": "execute_result"
    }
   ],
   "source": [
    "(df.age-df.age.min()) / (df.age.max() - df.age.min())"
   ]
  },
  {
   "cell_type": "markdown",
   "id": "e18e481e",
   "metadata": {},
   "source": [
    "## Z-score"
   ]
  },
  {
   "cell_type": "code",
   "execution_count": 12,
   "id": "366267e4",
   "metadata": {},
   "outputs": [
    {
     "data": {
      "text/plain": [
       "0   -1.161895\n",
       "1   -0.387298\n",
       "2    0.387298\n",
       "3    1.161895\n",
       "Name: age, dtype: float64"
      ]
     },
     "execution_count": 12,
     "metadata": {},
     "output_type": "execute_result"
    }
   ],
   "source": [
    "(df.age  - df.age.mean()) /df.age.std()"
   ]
  },
  {
   "cell_type": "code",
   "execution_count": null,
   "id": "555d3f25",
   "metadata": {},
   "outputs": [],
   "source": []
  }
 ],
 "metadata": {
  "kernelspec": {
   "display_name": "Python 3 (ipykernel)",
   "language": "python",
   "name": "python3"
  },
  "language_info": {
   "codemirror_mode": {
    "name": "ipython",
    "version": 3
   },
   "file_extension": ".py",
   "mimetype": "text/x-python",
   "name": "python",
   "nbconvert_exporter": "python",
   "pygments_lexer": "ipython3",
   "version": "3.9.13"
  }
 },
 "nbformat": 4,
 "nbformat_minor": 5
}
