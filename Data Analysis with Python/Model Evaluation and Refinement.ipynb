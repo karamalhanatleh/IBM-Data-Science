{
 "cells": [
  {
   "cell_type": "markdown",
   "id": "67d876f0",
   "metadata": {},
   "source": [
    "# Model Evaluation and Refinement"
   ]
  },
  {
   "cell_type": "code",
   "execution_count": 16,
   "id": "fd60130d",
   "metadata": {},
   "outputs": [],
   "source": [
    "#import\n",
    "import pandas as pd\n",
    "import numpy as np\n",
    "\n",
    "from sklearn.model_selection import train_test_split\n",
    "from sklearn.model_selection import cross_val_score\n",
    "from sklearn.linear_model import LinearRegression\n",
    "from sklearn.model_selection import cross_val_predict"
   ]
  },
  {
   "cell_type": "code",
   "execution_count": 4,
   "id": "e2ff2c43",
   "metadata": {},
   "outputs": [
    {
     "data": {
      "text/html": [
       "<div>\n",
       "<style scoped>\n",
       "    .dataframe tbody tr th:only-of-type {\n",
       "        vertical-align: middle;\n",
       "    }\n",
       "\n",
       "    .dataframe tbody tr th {\n",
       "        vertical-align: top;\n",
       "    }\n",
       "\n",
       "    .dataframe thead th {\n",
       "        text-align: right;\n",
       "    }\n",
       "</style>\n",
       "<table border=\"1\" class=\"dataframe\">\n",
       "  <thead>\n",
       "    <tr style=\"text-align: right;\">\n",
       "      <th></th>\n",
       "      <th>symboling</th>\n",
       "      <th>normalized-losses</th>\n",
       "      <th>make</th>\n",
       "      <th>aspiration</th>\n",
       "      <th>num-of-doors</th>\n",
       "      <th>body-style</th>\n",
       "      <th>drive-wheels</th>\n",
       "      <th>engine-location</th>\n",
       "      <th>wheel-base</th>\n",
       "      <th>length</th>\n",
       "      <th>...</th>\n",
       "      <th>compression-ratio</th>\n",
       "      <th>horsepower</th>\n",
       "      <th>peak-rpm</th>\n",
       "      <th>city-mpg</th>\n",
       "      <th>highway-mpg</th>\n",
       "      <th>price</th>\n",
       "      <th>city-L/100km</th>\n",
       "      <th>horsepower-binned</th>\n",
       "      <th>diesel</th>\n",
       "      <th>gas</th>\n",
       "    </tr>\n",
       "  </thead>\n",
       "  <tbody>\n",
       "    <tr>\n",
       "      <th>0</th>\n",
       "      <td>3</td>\n",
       "      <td>122</td>\n",
       "      <td>alfa-romero</td>\n",
       "      <td>std</td>\n",
       "      <td>two</td>\n",
       "      <td>convertible</td>\n",
       "      <td>rwd</td>\n",
       "      <td>front</td>\n",
       "      <td>88.6</td>\n",
       "      <td>0.811148</td>\n",
       "      <td>...</td>\n",
       "      <td>9.0</td>\n",
       "      <td>111.0</td>\n",
       "      <td>5000.0</td>\n",
       "      <td>21</td>\n",
       "      <td>27</td>\n",
       "      <td>13495.0</td>\n",
       "      <td>11.190476</td>\n",
       "      <td>Medium</td>\n",
       "      <td>0</td>\n",
       "      <td>1</td>\n",
       "    </tr>\n",
       "    <tr>\n",
       "      <th>1</th>\n",
       "      <td>3</td>\n",
       "      <td>122</td>\n",
       "      <td>alfa-romero</td>\n",
       "      <td>std</td>\n",
       "      <td>two</td>\n",
       "      <td>convertible</td>\n",
       "      <td>rwd</td>\n",
       "      <td>front</td>\n",
       "      <td>88.6</td>\n",
       "      <td>0.811148</td>\n",
       "      <td>...</td>\n",
       "      <td>9.0</td>\n",
       "      <td>111.0</td>\n",
       "      <td>5000.0</td>\n",
       "      <td>21</td>\n",
       "      <td>27</td>\n",
       "      <td>16500.0</td>\n",
       "      <td>11.190476</td>\n",
       "      <td>Medium</td>\n",
       "      <td>0</td>\n",
       "      <td>1</td>\n",
       "    </tr>\n",
       "    <tr>\n",
       "      <th>2</th>\n",
       "      <td>1</td>\n",
       "      <td>122</td>\n",
       "      <td>alfa-romero</td>\n",
       "      <td>std</td>\n",
       "      <td>two</td>\n",
       "      <td>hatchback</td>\n",
       "      <td>rwd</td>\n",
       "      <td>front</td>\n",
       "      <td>94.5</td>\n",
       "      <td>0.822681</td>\n",
       "      <td>...</td>\n",
       "      <td>9.0</td>\n",
       "      <td>154.0</td>\n",
       "      <td>5000.0</td>\n",
       "      <td>19</td>\n",
       "      <td>26</td>\n",
       "      <td>16500.0</td>\n",
       "      <td>12.368421</td>\n",
       "      <td>Medium</td>\n",
       "      <td>0</td>\n",
       "      <td>1</td>\n",
       "    </tr>\n",
       "    <tr>\n",
       "      <th>3</th>\n",
       "      <td>2</td>\n",
       "      <td>164</td>\n",
       "      <td>audi</td>\n",
       "      <td>std</td>\n",
       "      <td>four</td>\n",
       "      <td>sedan</td>\n",
       "      <td>fwd</td>\n",
       "      <td>front</td>\n",
       "      <td>99.8</td>\n",
       "      <td>0.848630</td>\n",
       "      <td>...</td>\n",
       "      <td>10.0</td>\n",
       "      <td>102.0</td>\n",
       "      <td>5500.0</td>\n",
       "      <td>24</td>\n",
       "      <td>30</td>\n",
       "      <td>13950.0</td>\n",
       "      <td>9.791667</td>\n",
       "      <td>Medium</td>\n",
       "      <td>0</td>\n",
       "      <td>1</td>\n",
       "    </tr>\n",
       "    <tr>\n",
       "      <th>4</th>\n",
       "      <td>2</td>\n",
       "      <td>164</td>\n",
       "      <td>audi</td>\n",
       "      <td>std</td>\n",
       "      <td>four</td>\n",
       "      <td>sedan</td>\n",
       "      <td>4wd</td>\n",
       "      <td>front</td>\n",
       "      <td>99.4</td>\n",
       "      <td>0.848630</td>\n",
       "      <td>...</td>\n",
       "      <td>8.0</td>\n",
       "      <td>115.0</td>\n",
       "      <td>5500.0</td>\n",
       "      <td>18</td>\n",
       "      <td>22</td>\n",
       "      <td>17450.0</td>\n",
       "      <td>13.055556</td>\n",
       "      <td>Medium</td>\n",
       "      <td>0</td>\n",
       "      <td>1</td>\n",
       "    </tr>\n",
       "  </tbody>\n",
       "</table>\n",
       "<p>5 rows × 29 columns</p>\n",
       "</div>"
      ],
      "text/plain": [
       "   symboling  normalized-losses         make aspiration num-of-doors  \\\n",
       "0          3                122  alfa-romero        std          two   \n",
       "1          3                122  alfa-romero        std          two   \n",
       "2          1                122  alfa-romero        std          two   \n",
       "3          2                164         audi        std         four   \n",
       "4          2                164         audi        std         four   \n",
       "\n",
       "    body-style drive-wheels engine-location  wheel-base    length  ...  \\\n",
       "0  convertible          rwd           front        88.6  0.811148  ...   \n",
       "1  convertible          rwd           front        88.6  0.811148  ...   \n",
       "2    hatchback          rwd           front        94.5  0.822681  ...   \n",
       "3        sedan          fwd           front        99.8  0.848630  ...   \n",
       "4        sedan          4wd           front        99.4  0.848630  ...   \n",
       "\n",
       "   compression-ratio  horsepower  peak-rpm city-mpg highway-mpg    price  \\\n",
       "0                9.0       111.0    5000.0       21          27  13495.0   \n",
       "1                9.0       111.0    5000.0       21          27  16500.0   \n",
       "2                9.0       154.0    5000.0       19          26  16500.0   \n",
       "3               10.0       102.0    5500.0       24          30  13950.0   \n",
       "4                8.0       115.0    5500.0       18          22  17450.0   \n",
       "\n",
       "  city-L/100km  horsepower-binned  diesel  gas  \n",
       "0    11.190476             Medium       0    1  \n",
       "1    11.190476             Medium       0    1  \n",
       "2    12.368421             Medium       0    1  \n",
       "3     9.791667             Medium       0    1  \n",
       "4    13.055556             Medium       0    1  \n",
       "\n",
       "[5 rows x 29 columns]"
      ]
     },
     "execution_count": 4,
     "metadata": {},
     "output_type": "execute_result"
    }
   ],
   "source": [
    "#read_data\n",
    "path='https://cf-courses-data.s3.us.cloud-object-storage.appdomain.cloud/IBMDeveloperSkillsNetwork-DA0101EN-SkillsNetwork/labs/Data%20files/automobileEDA.csv'\n",
    "df = pd.read_csv(path)\n",
    "df.head()"
   ]
  },
  {
   "cell_type": "code",
   "execution_count": 11,
   "id": "bb822ad5",
   "metadata": {},
   "outputs": [
    {
     "data": {
      "text/plain": [
       "LinearRegression()"
      ]
     },
     "execution_count": 11,
     "metadata": {},
     "output_type": "execute_result"
    }
   ],
   "source": [
    "X = df[['highway-mpg']]\n",
    "Y = df['price']\n",
    "\n",
    "#model object\n",
    "model=LinearRegression()\n",
    "\n",
    "#fit data\n",
    "model.fit(X,Y)"
   ]
  },
  {
   "cell_type": "code",
   "execution_count": 12,
   "id": "d086af01",
   "metadata": {},
   "outputs": [],
   "source": [
    "#split data \n",
    "X_train  ,X_test ,y_train ,y_test=train_test_split(X,Y, test_size=0.3 ,random_state=0) "
   ]
  },
  {
   "cell_type": "code",
   "execution_count": 13,
   "id": "9df3d886",
   "metadata": {},
   "outputs": [],
   "source": [
    "scores=cross_val_score(model , X,Y,cv=3)"
   ]
  },
  {
   "cell_type": "code",
   "execution_count": 14,
   "id": "e963560e",
   "metadata": {},
   "outputs": [
    {
     "data": {
      "text/plain": [
       "array([ 0.49385231,  0.48773429, -0.07953989])"
      ]
     },
     "execution_count": 14,
     "metadata": {},
     "output_type": "execute_result"
    }
   ],
   "source": [
    "scores"
   ]
  },
  {
   "cell_type": "code",
   "execution_count": 15,
   "id": "50116652",
   "metadata": {},
   "outputs": [
    {
     "data": {
      "text/plain": [
       "0.3006822341108338"
      ]
     },
     "execution_count": 15,
     "metadata": {},
     "output_type": "execute_result"
    }
   ],
   "source": [
    "np.mean(scores)"
   ]
  },
  {
   "cell_type": "code",
   "execution_count": 18,
   "id": "93e0416d",
   "metadata": {},
   "outputs": [
    {
     "data": {
      "text/plain": [
       "array([15669.43981517, 15669.43981517, 16473.75710818, 13256.48793613,\n",
       "       19691.02628024, 17278.0744012 , 17278.0744012 , 17278.0744012 ,\n",
       "       21299.66086627, 14060.80522914, 14060.80522914, 14865.12252216,\n",
       "       14865.12252216, 17278.0744012 , 19691.02628024, 19691.02628024,\n",
       "       21299.66086627, -5242.8098032 ,  2800.36312694,  2800.36312694,\n",
       "        4408.99771297,  6821.94959201, 13256.48793613,  6821.94959201,\n",
       "        6821.94959201,  6821.94959201, 13256.48793613, 13256.48793613,\n",
       "       18082.39169421, -6047.12709621,  6821.94959201,  3604.68041996,\n",
       "       10039.21876407, 10039.21876407, 10039.21876407, 10039.21876407,\n",
       "       10843.53605709, 10843.53605709, 10843.53605709, 10843.53605709,\n",
       "       14865.12252216, 12452.17064311, 14060.80522914, 14060.80522914,\n",
       "       22103.97815928, 22103.97815928, 23712.61274531, 12452.17064311,\n",
       "        6821.94959201,  6821.94959201,  6821.94959201,  6821.94959201,\n",
       "       18886.70898723, 18886.70898723, 18886.70898723, 18886.70898723,\n",
       "       11647.8533501 , 11647.8533501 , 11647.8533501 , 11647.8533501 ,\n",
       "        3604.68041996, 11647.8533501 , 15669.43981517,  6017.632299  ,\n",
       "       17278.0744012 , 17278.0744012 , 17278.0744012 , 17124.74322283,\n",
       "       22220.21670208, 22220.21670208, 23676.06626758, 23676.06626758,\n",
       "       17852.66800558,  5477.94669882,  7661.72104707,  7661.72104707,\n",
       "       13485.11930907, 13485.11930907, 12029.26974357, 17852.66800558,\n",
       "       17852.66800558, 17852.66800558, 12029.26974357, 12029.26974357,\n",
       "       13485.11930907, 13485.11930907,  8389.64582982, -1073.37634594,\n",
       "        8389.64582982,  8389.64582982,  8389.64582982,  8389.64582982,\n",
       "        8389.64582982,  8389.64582982,  8389.64582982,  8389.64582982,\n",
       "       10573.42017807, 10573.42017807, 19308.51757108, 19308.51757108,\n",
       "       17124.74322283, 17124.74322283, 18580.59278833, 17124.74322283,\n",
       "       17852.66800558, 11301.34496082, 17852.66800558, 17124.74322283,\n",
       "       17852.66800558, 11301.34496082, 17852.66800558, 17124.74322283,\n",
       "       17852.66800558, 11301.34496082, 17852.66800558,  5477.94669882,\n",
       "       13485.11930907,  7661.72104707,  7661.72104707,  7661.72104707,\n",
       "       13485.11930907, 17852.66800558, 15668.89365733, 17124.74322283,\n",
       "       17124.74322283, 17124.74322283, 12757.19452632, 12757.19452632,\n",
       "       14940.96887457, 14940.96887457, 14940.96887457, 14940.96887457,\n",
       "       16396.81844008, 16396.81844008,  8988.86568994, 13544.94121842,\n",
       "       13544.94121842,  8077.65058425, 11722.51100703, 12633.72611272,\n",
       "       19012.23185258, 15367.37142981, 12633.72611272, 13544.94121842,\n",
       "       15367.37142981, 20834.66206397,  6255.22037286,  7166.43547856,\n",
       "        7166.43547856,  8077.65058425, 12633.72611272, 12633.72611272,\n",
       "        8077.65058425,  8077.65058425,  8988.86568994, -1034.50047269,\n",
       "       -1034.50047269, 10811.29590133, 10811.29590133, 10811.29590133,\n",
       "       10811.29590133, 15367.37142981, 15367.37142981, 14456.15632411,\n",
       "       14456.15632411, 14456.15632411, 14456.15632411, 14456.15632411,\n",
       "       14456.15632411, 10811.29590133, 11722.51100703, 12633.72611272,\n",
       "       12633.72611272, 12633.72611272, 19923.44695828, 19923.44695828,\n",
       "       19923.44695828, 19923.44695828,  -123.285367  , 10811.29590133,\n",
       "        -123.285367  , 10811.29590133, 10811.29590133,  3521.57505578,\n",
       "       12633.72611272, 15367.37142981, 15367.37142981, 19923.44695828,\n",
       "        7166.43547856, 13544.94121842, 16278.5865355 , 16278.5865355 ,\n",
       "       16278.5865355 , 16278.5865355 , 21745.87716967, 21745.87716967,\n",
       "       16278.5865355 , 19012.23185258, 20834.66206397, 17189.8016412 ,\n",
       "       19012.23185258])"
      ]
     },
     "execution_count": 18,
     "metadata": {},
     "output_type": "execute_result"
    }
   ],
   "source": [
    "yhat=cross_val_predict(model,X,Y,cv=3)\n",
    "yhat"
   ]
  },
  {
   "cell_type": "code",
   "execution_count": null,
   "id": "df77a2f5",
   "metadata": {},
   "outputs": [],
   "source": []
  },
  {
   "cell_type": "code",
   "execution_count": 19,
   "id": "b3576466",
   "metadata": {},
   "outputs": [],
   "source": [
    "##########################################################################################################"
   ]
  }
 ],
 "metadata": {
  "kernelspec": {
   "display_name": "Python 3 (ipykernel)",
   "language": "python",
   "name": "python3"
  },
  "language_info": {
   "codemirror_mode": {
    "name": "ipython",
    "version": 3
   },
   "file_extension": ".py",
   "mimetype": "text/x-python",
   "name": "python",
   "nbconvert_exporter": "python",
   "pygments_lexer": "ipython3",
   "version": "3.9.13"
  }
 },
 "nbformat": 4,
 "nbformat_minor": 5
}
