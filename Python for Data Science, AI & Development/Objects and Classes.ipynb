{
 "cells": [
  {
   "cell_type": "markdown",
   "id": "fab6e50b",
   "metadata": {},
   "source": [
    "# Objects and Classes\n"
   ]
  },
  {
   "cell_type": "code",
   "execution_count": null,
   "id": "086f1e66",
   "metadata": {},
   "outputs": [],
   "source": [
    "\n"
   ]
  },
  {
   "cell_type": "markdown",
   "id": "60cfa1f7",
   "metadata": {},
   "source": [
    "### Objects : Type"
   ]
  },
  {
   "cell_type": "code",
   "execution_count": 11,
   "id": "312dd5bf",
   "metadata": {},
   "outputs": [],
   "source": [
    "o1=1\n",
    "o2=12\n",
    "o3=391\n",
    "o4=78"
   ]
  },
  {
   "cell_type": "code",
   "execution_count": 12,
   "id": "3db89e61",
   "metadata": {},
   "outputs": [
    {
     "data": {
      "text/plain": [
       "int"
      ]
     },
     "execution_count": 12,
     "metadata": {},
     "output_type": "execute_result"
    }
   ],
   "source": [
    "type(o1)"
   ]
  },
  {
   "cell_type": "code",
   "execution_count": 13,
   "id": "df170da5",
   "metadata": {},
   "outputs": [
    {
     "data": {
      "text/plain": [
       "int"
      ]
     },
     "execution_count": 13,
     "metadata": {},
     "output_type": "execute_result"
    }
   ],
   "source": [
    "type(o2)"
   ]
  },
  {
   "cell_type": "code",
   "execution_count": 14,
   "id": "e868ffc9",
   "metadata": {},
   "outputs": [
    {
     "data": {
      "text/plain": [
       "int"
      ]
     },
     "execution_count": 14,
     "metadata": {},
     "output_type": "execute_result"
    }
   ],
   "source": [
    "type(o3)"
   ]
  },
  {
   "cell_type": "code",
   "execution_count": null,
   "id": "d96ace70",
   "metadata": {},
   "outputs": [],
   "source": []
  },
  {
   "cell_type": "code",
   "execution_count": 15,
   "id": "f94bcec5",
   "metadata": {},
   "outputs": [],
   "source": [
    "a=[1,33,2]\n",
    "b=['a','ab','ds']\n",
    "c=['a',32,1]\n",
    "d=[False,True,True]"
   ]
  },
  {
   "cell_type": "code",
   "execution_count": 17,
   "id": "8f0718ae",
   "metadata": {},
   "outputs": [
    {
     "data": {
      "text/plain": [
       "list"
      ]
     },
     "execution_count": 17,
     "metadata": {},
     "output_type": "execute_result"
    }
   ],
   "source": [
    "type(a)"
   ]
  },
  {
   "cell_type": "code",
   "execution_count": 18,
   "id": "8d558089",
   "metadata": {},
   "outputs": [
    {
     "data": {
      "text/plain": [
       "list"
      ]
     },
     "execution_count": 18,
     "metadata": {},
     "output_type": "execute_result"
    }
   ],
   "source": [
    "type(b)"
   ]
  },
  {
   "cell_type": "code",
   "execution_count": 19,
   "id": "860512e5",
   "metadata": {},
   "outputs": [
    {
     "name": "stdout",
     "output_type": "stream",
     "text": [
      "<class 'list'>\n"
     ]
    }
   ],
   "source": [
    "print(type(c))"
   ]
  },
  {
   "cell_type": "code",
   "execution_count": null,
   "id": "1efa2df3",
   "metadata": {},
   "outputs": [],
   "source": []
  },
  {
   "cell_type": "markdown",
   "id": "7896fd1b",
   "metadata": {},
   "source": [
    "### Method"
   ]
  },
  {
   "cell_type": "code",
   "execution_count": 20,
   "id": "aba0d674",
   "metadata": {},
   "outputs": [],
   "source": [
    "ratings=[10,9,6,5,10,8,9,6,2]\n",
    "ratings.sort()"
   ]
  },
  {
   "cell_type": "code",
   "execution_count": 21,
   "id": "ac3fff9d",
   "metadata": {},
   "outputs": [
    {
     "data": {
      "text/plain": [
       "[2, 5, 6, 6, 8, 9, 9, 10, 10]"
      ]
     },
     "execution_count": 21,
     "metadata": {},
     "output_type": "execute_result"
    }
   ],
   "source": [
    "ratings"
   ]
  },
  {
   "cell_type": "code",
   "execution_count": 22,
   "id": "af467308",
   "metadata": {},
   "outputs": [],
   "source": [
    "ratings.reverse()"
   ]
  },
  {
   "cell_type": "code",
   "execution_count": 23,
   "id": "a08d7891",
   "metadata": {},
   "outputs": [
    {
     "data": {
      "text/plain": [
       "[10, 10, 9, 9, 8, 6, 6, 5, 2]"
      ]
     },
     "execution_count": 23,
     "metadata": {},
     "output_type": "execute_result"
    }
   ],
   "source": [
    "ratings"
   ]
  },
  {
   "cell_type": "code",
   "execution_count": null,
   "id": "783db154",
   "metadata": {},
   "outputs": [],
   "source": []
  },
  {
   "cell_type": "code",
   "execution_count": null,
   "id": "c905209c",
   "metadata": {},
   "outputs": [],
   "source": []
  },
  {
   "cell_type": "markdown",
   "id": "210987c2",
   "metadata": {},
   "source": [
    "### class"
   ]
  },
  {
   "cell_type": "code",
   "execution_count": 51,
   "id": "198f232f",
   "metadata": {},
   "outputs": [],
   "source": [
    "class circle(object):\n",
    "    def __init__(self , radius , color):\n",
    "        self.radius = radius;\n",
    "        self.color = color;"
   ]
  },
  {
   "cell_type": "code",
   "execution_count": null,
   "id": "9366ba8a",
   "metadata": {},
   "outputs": [],
   "source": []
  },
  {
   "cell_type": "code",
   "execution_count": 52,
   "id": "dc040710",
   "metadata": {},
   "outputs": [],
   "source": [
    "class reactangle(object):\n",
    "    \n",
    "    def __init__(self , color , height , width):\n",
    "        self.height = height;\n",
    "        self.width=width;\n",
    "        self.color = colorl"
   ]
  },
  {
   "cell_type": "code",
   "execution_count": null,
   "id": "321b6672",
   "metadata": {},
   "outputs": [],
   "source": []
  },
  {
   "cell_type": "code",
   "execution_count": 53,
   "id": "6ef7bd44",
   "metadata": {},
   "outputs": [
    {
     "data": {
      "text/plain": [
       "<__main__.circle at 0x1af88d08460>"
      ]
     },
     "execution_count": 53,
     "metadata": {},
     "output_type": "execute_result"
    }
   ],
   "source": [
    "red_circle=circle(10 , 'red')\n",
    "red_circle"
   ]
  },
  {
   "cell_type": "code",
   "execution_count": 57,
   "id": "1cf04341",
   "metadata": {},
   "outputs": [
    {
     "data": {
      "text/plain": [
       "<__main__.circle at 0x1af88d3ca90>"
      ]
     },
     "execution_count": 57,
     "metadata": {},
     "output_type": "execute_result"
    }
   ],
   "source": [
    "c1 = circle( 10 , 'red')\n",
    "c1"
   ]
  },
  {
   "cell_type": "code",
   "execution_count": 58,
   "id": "e4f7dee6",
   "metadata": {},
   "outputs": [
    {
     "data": {
      "text/plain": [
       "10"
      ]
     },
     "execution_count": 58,
     "metadata": {},
     "output_type": "execute_result"
    }
   ],
   "source": [
    "c1.radius"
   ]
  },
  {
   "cell_type": "code",
   "execution_count": 59,
   "id": "f248e496",
   "metadata": {},
   "outputs": [
    {
     "data": {
      "text/plain": [
       "'red'"
      ]
     },
     "execution_count": 59,
     "metadata": {},
     "output_type": "execute_result"
    }
   ],
   "source": [
    "c1.color"
   ]
  },
  {
   "cell_type": "code",
   "execution_count": 60,
   "id": "0ec85144",
   "metadata": {},
   "outputs": [],
   "source": [
    "c1.color = 'blue'"
   ]
  },
  {
   "cell_type": "code",
   "execution_count": 61,
   "id": "bf8f1d78",
   "metadata": {},
   "outputs": [
    {
     "data": {
      "text/plain": [
       "'blue'"
      ]
     },
     "execution_count": 61,
     "metadata": {},
     "output_type": "execute_result"
    }
   ],
   "source": [
    "c1.color"
   ]
  },
  {
   "cell_type": "code",
   "execution_count": 63,
   "id": "239978dd",
   "metadata": {},
   "outputs": [],
   "source": [
    "RedCircle=circle(10,'red')\n",
    "RedCircle.radius=1"
   ]
  },
  {
   "cell_type": "code",
   "execution_count": 65,
   "id": "2869d2e5",
   "metadata": {},
   "outputs": [
    {
     "data": {
      "text/plain": [
       "10"
      ]
     },
     "execution_count": 65,
     "metadata": {},
     "output_type": "execute_result"
    }
   ],
   "source": [
    "red_circle.radius"
   ]
  },
  {
   "cell_type": "code",
   "execution_count": null,
   "id": "72d7bd4a",
   "metadata": {},
   "outputs": [],
   "source": []
  },
  {
   "cell_type": "code",
   "execution_count": 68,
   "id": "ce54322a",
   "metadata": {},
   "outputs": [],
   "source": [
    "class circle(object):\n",
    "    def __init__(self , radius , color):\n",
    "        self.radius = radius;\n",
    "        self.color = color;\n",
    "    def add_radius(self,r):\n",
    "        self.radius = self.radius+r"
   ]
  },
  {
   "cell_type": "code",
   "execution_count": null,
   "id": "c6fe9ea7",
   "metadata": {},
   "outputs": [],
   "source": []
  },
  {
   "cell_type": "code",
   "execution_count": 69,
   "id": "f24c7b07",
   "metadata": {},
   "outputs": [],
   "source": [
    "c1=circle(2, 'red')"
   ]
  },
  {
   "cell_type": "code",
   "execution_count": 70,
   "id": "721fc096",
   "metadata": {},
   "outputs": [],
   "source": [
    "c1.add_radius(8)"
   ]
  },
  {
   "cell_type": "code",
   "execution_count": 71,
   "id": "9fa98d1c",
   "metadata": {},
   "outputs": [
    {
     "data": {
      "text/plain": [
       "10"
      ]
     },
     "execution_count": 71,
     "metadata": {},
     "output_type": "execute_result"
    }
   ],
   "source": [
    "c1.radius"
   ]
  },
  {
   "cell_type": "code",
   "execution_count": null,
   "id": "8eb022d4",
   "metadata": {},
   "outputs": [],
   "source": []
  },
  {
   "cell_type": "code",
   "execution_count": 73,
   "id": "c30f396b",
   "metadata": {},
   "outputs": [],
   "source": [
    "BlueCircle=circle(10,'blue')\n",
    "BlueCircle.add_radius(20)"
   ]
  },
  {
   "cell_type": "code",
   "execution_count": null,
   "id": "e344cbbe",
   "metadata": {},
   "outputs": [],
   "source": []
  }
 ],
 "metadata": {
  "kernelspec": {
   "display_name": "Python 3 (ipykernel)",
   "language": "python",
   "name": "python3"
  },
  "language_info": {
   "codemirror_mode": {
    "name": "ipython",
    "version": 3
   },
   "file_extension": ".py",
   "mimetype": "text/x-python",
   "name": "python",
   "nbconvert_exporter": "python",
   "pygments_lexer": "ipython3",
   "version": "3.9.13"
  }
 },
 "nbformat": 4,
 "nbformat_minor": 5
}
