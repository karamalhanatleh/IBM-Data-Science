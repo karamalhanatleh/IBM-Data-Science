{
 "cells": [
  {
   "cell_type": "markdown",
   "id": "095b7e3c",
   "metadata": {},
   "source": [
    "# Functions"
   ]
  },
  {
   "cell_type": "code",
   "execution_count": null,
   "id": "bf236b8f",
   "metadata": {},
   "outputs": [],
   "source": []
  },
  {
   "cell_type": "code",
   "execution_count": 1,
   "id": "bc79d5c2",
   "metadata": {},
   "outputs": [],
   "source": [
    "def f1(input):\n",
    "    \"\"\"add 1 to input\"\"\"\n",
    "    output = input+1\n",
    "    return output"
   ]
  },
  {
   "cell_type": "code",
   "execution_count": 2,
   "id": "c7e2e5b2",
   "metadata": {},
   "outputs": [
    {
     "data": {
      "text/plain": [
       "11"
      ]
     },
     "execution_count": 2,
     "metadata": {},
     "output_type": "execute_result"
    }
   ],
   "source": [
    "f1(10)"
   ]
  },
  {
   "cell_type": "code",
   "execution_count": 3,
   "id": "4a1e2530",
   "metadata": {},
   "outputs": [],
   "source": [
    "def f2(input):\n",
    "    \"\"\"add 2 to input\"\"\"\n",
    "    output = input+2\n",
    "    return output"
   ]
  },
  {
   "cell_type": "code",
   "execution_count": 4,
   "id": "63fe619a",
   "metadata": {},
   "outputs": [
    {
     "data": {
      "text/plain": [
       "12"
      ]
     },
     "execution_count": 4,
     "metadata": {},
     "output_type": "execute_result"
    }
   ],
   "source": [
    "f2(10)"
   ]
  },
  {
   "cell_type": "code",
   "execution_count": null,
   "id": "59585c1e",
   "metadata": {},
   "outputs": [],
   "source": []
  },
  {
   "cell_type": "markdown",
   "id": "67fe09b5",
   "metadata": {},
   "source": [
    "### len()"
   ]
  },
  {
   "cell_type": "code",
   "execution_count": 10,
   "id": "ca3494f1",
   "metadata": {},
   "outputs": [
    {
     "data": {
      "text/plain": [
       "13"
      ]
     },
     "execution_count": 10,
     "metadata": {},
     "output_type": "execute_result"
    }
   ],
   "source": [
    "album_ratings =[10,8,7,5,3,5,76,4,3,22,4,5,6]\n",
    "len(album_ratings)"
   ]
  },
  {
   "cell_type": "code",
   "execution_count": 11,
   "id": "0fa0d9cf",
   "metadata": {},
   "outputs": [
    {
     "data": {
      "text/plain": [
       "7"
      ]
     },
     "execution_count": 11,
     "metadata": {},
     "output_type": "execute_result"
    }
   ],
   "source": [
    "len('qweidm ')"
   ]
  },
  {
   "cell_type": "code",
   "execution_count": 12,
   "id": "6e6197de",
   "metadata": {},
   "outputs": [
    {
     "data": {
      "text/plain": [
       "6"
      ]
     },
     "execution_count": 12,
     "metadata": {},
     "output_type": "execute_result"
    }
   ],
   "source": [
    "len({1,2,3,4,6,5,6})"
   ]
  },
  {
   "cell_type": "code",
   "execution_count": null,
   "id": "6c34984e",
   "metadata": {},
   "outputs": [],
   "source": []
  },
  {
   "cell_type": "markdown",
   "id": "f39b06fc",
   "metadata": {},
   "source": [
    "### sum()"
   ]
  },
  {
   "cell_type": "code",
   "execution_count": 13,
   "id": "37b7b765",
   "metadata": {},
   "outputs": [
    {
     "data": {
      "text/plain": [
       "158"
      ]
     },
     "execution_count": 13,
     "metadata": {},
     "output_type": "execute_result"
    }
   ],
   "source": [
    "album_ratings =[10,8,7,5,3,5,76,4,3,22,4,5,6]\n",
    "sum(album_ratings)"
   ]
  },
  {
   "cell_type": "code",
   "execution_count": 14,
   "id": "c65bd0fe",
   "metadata": {},
   "outputs": [
    {
     "data": {
      "text/plain": [
       "22"
      ]
     },
     "execution_count": 14,
     "metadata": {},
     "output_type": "execute_result"
    }
   ],
   "source": [
    "sum([6,6,10])"
   ]
  },
  {
   "cell_type": "code",
   "execution_count": 15,
   "id": "5aaad8cf",
   "metadata": {},
   "outputs": [
    {
     "data": {
      "text/plain": [
       "18"
      ]
     },
     "execution_count": 15,
     "metadata": {},
     "output_type": "execute_result"
    }
   ],
   "source": [
    "sum((5,6,7))"
   ]
  },
  {
   "cell_type": "code",
   "execution_count": 16,
   "id": "f0cc2971",
   "metadata": {},
   "outputs": [
    {
     "data": {
      "text/plain": [
       "33"
      ]
     },
     "execution_count": 16,
     "metadata": {},
     "output_type": "execute_result"
    }
   ],
   "source": [
    "sum({10,11,12})"
   ]
  },
  {
   "cell_type": "code",
   "execution_count": null,
   "id": "f0d57039",
   "metadata": {},
   "outputs": [],
   "source": []
  },
  {
   "cell_type": "markdown",
   "id": "c99831d5",
   "metadata": {},
   "source": [
    "### sorted vs sort"
   ]
  },
  {
   "cell_type": "code",
   "execution_count": 21,
   "id": "9428e3a0",
   "metadata": {},
   "outputs": [],
   "source": [
    "#sorted"
   ]
  },
  {
   "cell_type": "code",
   "execution_count": 22,
   "id": "411cedd7",
   "metadata": {},
   "outputs": [
    {
     "data": {
      "text/plain": [
       "[10, 8, 7, 5, 3, 5, 76, 4, 3, 22, 4, 5, 6]"
      ]
     },
     "execution_count": 22,
     "metadata": {},
     "output_type": "execute_result"
    }
   ],
   "source": [
    "album_ratings"
   ]
  },
  {
   "cell_type": "code",
   "execution_count": 23,
   "id": "5ca46e48",
   "metadata": {},
   "outputs": [
    {
     "data": {
      "text/plain": [
       "[3, 3, 4, 4, 5, 5, 5, 6, 7, 8, 10, 22, 76]"
      ]
     },
     "execution_count": 23,
     "metadata": {},
     "output_type": "execute_result"
    }
   ],
   "source": [
    "sorted_album_ratings = sorted(album_ratings)\n",
    "sorted_album_ratings"
   ]
  },
  {
   "cell_type": "code",
   "execution_count": 24,
   "id": "9f9198ae",
   "metadata": {},
   "outputs": [
    {
     "data": {
      "text/plain": [
       "[10, 8, 7, 5, 3, 5, 76, 4, 3, 22, 4, 5, 6]"
      ]
     },
     "execution_count": 24,
     "metadata": {},
     "output_type": "execute_result"
    }
   ],
   "source": [
    "album_ratings"
   ]
  },
  {
   "cell_type": "code",
   "execution_count": null,
   "id": "244c5d5a",
   "metadata": {},
   "outputs": [],
   "source": [
    "\n"
   ]
  },
  {
   "cell_type": "code",
   "execution_count": 25,
   "id": "9c15b393",
   "metadata": {},
   "outputs": [],
   "source": [
    "#sort"
   ]
  },
  {
   "cell_type": "code",
   "execution_count": 26,
   "id": "638ef6b1",
   "metadata": {},
   "outputs": [
    {
     "data": {
      "text/plain": [
       "[10, 8, 7, 5, 3, 5, 76, 4, 3, 22, 4, 5, 6]"
      ]
     },
     "execution_count": 26,
     "metadata": {},
     "output_type": "execute_result"
    }
   ],
   "source": [
    "album_ratings"
   ]
  },
  {
   "cell_type": "code",
   "execution_count": 27,
   "id": "4687b81e",
   "metadata": {},
   "outputs": [
    {
     "data": {
      "text/plain": [
       "[3, 3, 4, 4, 5, 5, 5, 6, 7, 8, 10, 22, 76]"
      ]
     },
     "execution_count": 27,
     "metadata": {},
     "output_type": "execute_result"
    }
   ],
   "source": [
    "album_ratings.sort()\n",
    "album_ratings"
   ]
  },
  {
   "cell_type": "code",
   "execution_count": null,
   "id": "74ec0e72",
   "metadata": {},
   "outputs": [],
   "source": []
  },
  {
   "cell_type": "code",
   "execution_count": null,
   "id": "30be7cf6",
   "metadata": {},
   "outputs": [],
   "source": []
  },
  {
   "cell_type": "markdown",
   "id": "61378706",
   "metadata": {},
   "source": [
    "### making functions"
   ]
  },
  {
   "cell_type": "code",
   "execution_count": 29,
   "id": "ed3c69cf",
   "metadata": {},
   "outputs": [
    {
     "data": {
      "text/plain": [
       "13"
      ]
     },
     "execution_count": 29,
     "metadata": {},
     "output_type": "execute_result"
    }
   ],
   "source": [
    "def add1(a):\n",
    "    b = a+1\n",
    "    return b\n",
    "add1(12)"
   ]
  },
  {
   "cell_type": "code",
   "execution_count": 30,
   "id": "31f004d3",
   "metadata": {},
   "outputs": [
    {
     "data": {
      "text/plain": [
       "6"
      ]
     },
     "execution_count": 30,
     "metadata": {},
     "output_type": "execute_result"
    }
   ],
   "source": [
    "add1(5)"
   ]
  },
  {
   "cell_type": "code",
   "execution_count": 31,
   "id": "53110915",
   "metadata": {},
   "outputs": [],
   "source": [
    "c= add1(10)"
   ]
  },
  {
   "cell_type": "code",
   "execution_count": 32,
   "id": "94488744",
   "metadata": {},
   "outputs": [
    {
     "data": {
      "text/plain": [
       "11"
      ]
     },
     "execution_count": 32,
     "metadata": {},
     "output_type": "execute_result"
    }
   ],
   "source": [
    "c"
   ]
  },
  {
   "cell_type": "code",
   "execution_count": null,
   "id": "73267ac4",
   "metadata": {},
   "outputs": [],
   "source": []
  },
  {
   "cell_type": "code",
   "execution_count": 33,
   "id": "19a90eb2",
   "metadata": {},
   "outputs": [
    {
     "data": {
      "text/plain": [
       "13"
      ]
     },
     "execution_count": 33,
     "metadata": {},
     "output_type": "execute_result"
    }
   ],
   "source": [
    "def add1(a):\n",
    "    \"\"\"\n",
    "    add 1 to a\n",
    "    \"\"\"\n",
    "    b = a+1\n",
    "    return b\n",
    "add1(12)"
   ]
  },
  {
   "cell_type": "code",
   "execution_count": 34,
   "id": "69975d39",
   "metadata": {},
   "outputs": [
    {
     "name": "stdout",
     "output_type": "stream",
     "text": [
      "Help on function add1 in module __main__:\n",
      "\n",
      "add1(a)\n",
      "    add 1 to a\n",
      "\n"
     ]
    }
   ],
   "source": [
    "help(add1)"
   ]
  },
  {
   "cell_type": "code",
   "execution_count": null,
   "id": "1ef9d196",
   "metadata": {},
   "outputs": [],
   "source": []
  },
  {
   "cell_type": "code",
   "execution_count": 35,
   "id": "bd6ec32f",
   "metadata": {},
   "outputs": [],
   "source": [
    "def mult(a,b):\n",
    "    c=a*b\n",
    "    return c"
   ]
  },
  {
   "cell_type": "code",
   "execution_count": 37,
   "id": "8c000631",
   "metadata": {},
   "outputs": [
    {
     "data": {
      "text/plain": [
       "20"
      ]
     },
     "execution_count": 37,
     "metadata": {},
     "output_type": "execute_result"
    }
   ],
   "source": [
    "mult(10,2)"
   ]
  },
  {
   "cell_type": "code",
   "execution_count": 38,
   "id": "307e7e20",
   "metadata": {},
   "outputs": [
    {
     "data": {
      "text/plain": [
       "8.8"
      ]
     },
     "execution_count": 38,
     "metadata": {},
     "output_type": "execute_result"
    }
   ],
   "source": [
    "mult(4,2.2)"
   ]
  },
  {
   "cell_type": "code",
   "execution_count": 39,
   "id": "377d0bf5",
   "metadata": {},
   "outputs": [
    {
     "data": {
      "text/plain": [
       "'AAAAAA'"
      ]
     },
     "execution_count": 39,
     "metadata": {},
     "output_type": "execute_result"
    }
   ],
   "source": [
    "mult(\"AAA\",2)"
   ]
  },
  {
   "cell_type": "code",
   "execution_count": null,
   "id": "896f13ed",
   "metadata": {},
   "outputs": [],
   "source": []
  },
  {
   "cell_type": "code",
   "execution_count": 41,
   "id": "e34c7513",
   "metadata": {},
   "outputs": [],
   "source": [
    "def mj():\n",
    "    print(\"michael jackson\")"
   ]
  },
  {
   "cell_type": "code",
   "execution_count": 43,
   "id": "3b766eac",
   "metadata": {},
   "outputs": [
    {
     "name": "stdout",
     "output_type": "stream",
     "text": [
      "michael jackson\n"
     ]
    }
   ],
   "source": [
    "mj()"
   ]
  },
  {
   "cell_type": "code",
   "execution_count": null,
   "id": "e7eda1be",
   "metadata": {},
   "outputs": [],
   "source": []
  },
  {
   "cell_type": "code",
   "execution_count": 44,
   "id": "98249a02",
   "metadata": {},
   "outputs": [],
   "source": [
    "def nowork():\n",
    "    pass\n"
   ]
  },
  {
   "cell_type": "code",
   "execution_count": 46,
   "id": "160c5f33",
   "metadata": {},
   "outputs": [],
   "source": [
    "nowork()"
   ]
  },
  {
   "cell_type": "code",
   "execution_count": 47,
   "id": "5d4a9594",
   "metadata": {},
   "outputs": [
    {
     "name": "stdout",
     "output_type": "stream",
     "text": [
      "a1\n",
      "b1\n",
      "c1\n"
     ]
    }
   ],
   "source": [
    "def Print(A):\n",
    "    for a in A:\n",
    "        print(a+'1')\n",
    "        \n",
    "Print(['a','b','c'])"
   ]
  },
  {
   "cell_type": "code",
   "execution_count": null,
   "id": "1be44ac0",
   "metadata": {},
   "outputs": [],
   "source": []
  },
  {
   "cell_type": "code",
   "execution_count": null,
   "id": "22c2a6bf",
   "metadata": {},
   "outputs": [],
   "source": []
  },
  {
   "cell_type": "markdown",
   "id": "a4a6e29d",
   "metadata": {},
   "source": [
    "### collecting arguments"
   ]
  },
  {
   "cell_type": "code",
   "execution_count": 49,
   "id": "27e4a14f",
   "metadata": {},
   "outputs": [],
   "source": [
    "def artistnames(*names):\n",
    "    for name in names:\n",
    "        print(name)"
   ]
  },
  {
   "cell_type": "code",
   "execution_count": 50,
   "id": "9a1392b2",
   "metadata": {},
   "outputs": [
    {
     "name": "stdout",
     "output_type": "stream",
     "text": [
      "ali\n",
      "karam\n",
      "jj\n",
      "aa\n"
     ]
    }
   ],
   "source": [
    "artistnames(\"ali\",'karam','jj','aa')"
   ]
  },
  {
   "cell_type": "code",
   "execution_count": 51,
   "id": "9787a570",
   "metadata": {},
   "outputs": [],
   "source": [
    "def artistnames(*names):\n",
    "    for name in names:\n",
    "        print(name,len(name))"
   ]
  },
  {
   "cell_type": "code",
   "execution_count": 52,
   "id": "1a0a011b",
   "metadata": {},
   "outputs": [
    {
     "name": "stdout",
     "output_type": "stream",
     "text": [
      "ali 3\n",
      "karam 5\n",
      "jj 2\n",
      "aa 2\n"
     ]
    }
   ],
   "source": [
    "artistnames(\"ali\",'karam','jj','aa')"
   ]
  },
  {
   "cell_type": "code",
   "execution_count": null,
   "id": "a7b16945",
   "metadata": {},
   "outputs": [],
   "source": []
  }
 ],
 "metadata": {
  "kernelspec": {
   "display_name": "Python 3 (ipykernel)",
   "language": "python",
   "name": "python3"
  },
  "language_info": {
   "codemirror_mode": {
    "name": "ipython",
    "version": 3
   },
   "file_extension": ".py",
   "mimetype": "text/x-python",
   "name": "python",
   "nbconvert_exporter": "python",
   "pygments_lexer": "ipython3",
   "version": "3.9.13"
  }
 },
 "nbformat": 4,
 "nbformat_minor": 5
}
