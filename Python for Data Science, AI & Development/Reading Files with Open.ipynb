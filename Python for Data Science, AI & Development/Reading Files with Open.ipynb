{
 "cells": [
  {
   "cell_type": "markdown",
   "id": "77331442",
   "metadata": {},
   "source": [
    "# Reading Files with Open\n"
   ]
  },
  {
   "cell_type": "code",
   "execution_count": 18,
   "id": "0ed5aeb2",
   "metadata": {},
   "outputs": [],
   "source": [
    "file1=open('files/example2.txt','w')"
   ]
  },
  {
   "cell_type": "code",
   "execution_count": 19,
   "id": "9afd0083",
   "metadata": {},
   "outputs": [
    {
     "data": {
      "text/plain": [
       "'files/example2.txt'"
      ]
     },
     "execution_count": 19,
     "metadata": {},
     "output_type": "execute_result"
    }
   ],
   "source": [
    "file1.name   #name file"
   ]
  },
  {
   "cell_type": "code",
   "execution_count": 20,
   "id": "e49ddf5b",
   "metadata": {},
   "outputs": [
    {
     "data": {
      "text/plain": [
       "'w'"
      ]
     },
     "execution_count": 20,
     "metadata": {},
     "output_type": "execute_result"
    }
   ],
   "source": [
    "file1.mode   #mode file"
   ]
  },
  {
   "cell_type": "code",
   "execution_count": 21,
   "id": "011f7bc0",
   "metadata": {},
   "outputs": [],
   "source": [
    "file1.close()"
   ]
  },
  {
   "cell_type": "code",
   "execution_count": 24,
   "id": "14c4928b",
   "metadata": {},
   "outputs": [
    {
     "name": "stdout",
     "output_type": "stream",
     "text": [
      "True\n"
     ]
    }
   ],
   "source": [
    "print(file1.closed)"
   ]
  },
  {
   "cell_type": "code",
   "execution_count": null,
   "id": "f3426882",
   "metadata": {},
   "outputs": [],
   "source": [
    " "
   ]
  },
  {
   "cell_type": "markdown",
   "id": "ebfd0d87",
   "metadata": {},
   "source": [
    "### Another way to open the file"
   ]
  },
  {
   "cell_type": "code",
   "execution_count": 25,
   "id": "41a66d2c",
   "metadata": {},
   "outputs": [
    {
     "name": "stdout",
     "output_type": "stream",
     "text": [
      "\n",
      "True\n",
      "\n"
     ]
    }
   ],
   "source": [
    "with open(\"files/example2.txt\",'r') as file1:\n",
    "    file_stuff =file1.read()\n",
    "    \n",
    "    print(file_stuff)\n",
    "print(file1.closed)\n",
    "print(file_stuff)"
   ]
  },
  {
   "cell_type": "code",
   "execution_count": 29,
   "id": "0db839e0",
   "metadata": {},
   "outputs": [
    {
     "name": "stdout",
     "output_type": "stream",
     "text": [
      "['Karam ALhanatleh\\n', 'Ali Khaled\\n', 'ali saoud\\n', 'ayman hasn']\n"
     ]
    }
   ],
   "source": [
    "with open(\"files/example2.txt\",'r') as file1:\n",
    "    file_stuff = file1.readlines()\n",
    "    print(file_stuff)"
   ]
  },
  {
   "cell_type": "code",
   "execution_count": 33,
   "id": "6b7a56e9",
   "metadata": {},
   "outputs": [
    {
     "name": "stdout",
     "output_type": "stream",
     "text": [
      "Karam ALhanatleh\n",
      "\n",
      "Ali Khaled\n",
      "\n"
     ]
    }
   ],
   "source": [
    "with open(\"files/example2.txt\",'r') as file1:\n",
    "    file_stuff = file1.readline()\n",
    "    print(file_stuff)\n",
    "    \n",
    "    file_stuff = file1.readline()\n",
    "    print(file_stuff)"
   ]
  },
  {
   "cell_type": "code",
   "execution_count": null,
   "id": "b561395e",
   "metadata": {},
   "outputs": [],
   "source": []
  },
  {
   "cell_type": "code",
   "execution_count": 35,
   "id": "6fcb0e4e",
   "metadata": {},
   "outputs": [
    {
     "name": "stdout",
     "output_type": "stream",
     "text": [
      "Line1\n",
      "\n",
      "Line2\n",
      "\n",
      "Line3\n",
      "\n",
      "Line4\n",
      "\n",
      "Line5\n",
      "\n",
      "Line6\n",
      "\n",
      "Line7\n",
      "\n",
      "Line8\n",
      "\n",
      "Line9\n",
      "\n"
     ]
    }
   ],
   "source": [
    "with open(\"files/example2.txt\",'r') as file1:\n",
    "    for line in file1:\n",
    "        print(line)"
   ]
  },
  {
   "cell_type": "code",
   "execution_count": null,
   "id": "ebe4ef80",
   "metadata": {},
   "outputs": [],
   "source": []
  },
  {
   "cell_type": "code",
   "execution_count": 39,
   "id": "4e8cd4eb",
   "metadata": {},
   "outputs": [
    {
     "name": "stdout",
     "output_type": "stream",
     "text": [
      "['Line1\\n']\n",
      "['Line1\\n']\n"
     ]
    }
   ],
   "source": [
    "with open(\"files/example2.txt\",'r') as file1:\n",
    "    file_stuff=file1.readlines(2)\n",
    "    print(file_stuff)\n",
    "    print(file_stuff)    "
   ]
  },
  {
   "cell_type": "code",
   "execution_count": null,
   "id": "cef7f218",
   "metadata": {},
   "outputs": [],
   "source": []
  },
  {
   "cell_type": "code",
   "execution_count": 48,
   "id": "9940506f",
   "metadata": {},
   "outputs": [
    {
     "name": "stdout",
     "output_type": "stream",
     "text": [
      "0 1 2 3 4 5 6 7 8 9\n",
      "0 1 2 3 4 5 6 7 8 9\n",
      "0 1 2 3 4 5 6 7 8 9\n",
      "0 1 2 3 4 5 6 7 8 9\n",
      "0 1 2 3 4 5 6 7 8 9\n",
      "0 1 2 3 4 5 6 7 8 9\n",
      "0 1 2 3 4 5 6 7 8 9\n",
      "0 1 2 3 4 5 6 7 8 9\n",
      "0 1 2 3 4 5 6 7 8 9\n",
      "0 1 2 3 4 5 6 7 8 9\n",
      "0 1 2 3 4 5 6 7 8 9\n",
      "0 1 2 3 4 5 6 7 8 9\n",
      "\n"
     ]
    }
   ],
   "source": [
    "with open('Example3.txt','r') as file:\n",
    "    fi_re=file.read()\n",
    "    print(fi_re)"
   ]
  },
  {
   "cell_type": "code",
   "execution_count": 54,
   "id": "a97ab37b",
   "metadata": {},
   "outputs": [
    {
     "name": "stdout",
     "output_type": "stream",
     "text": [
      "0 1 2 3 4 5 6 7 8 9\n",
      "\n"
     ]
    }
   ],
   "source": [
    "with open('Example3.txt','r') as file:\n",
    "    fi_re=file.readline()\n",
    "    print(fi_re)"
   ]
  },
  {
   "cell_type": "code",
   "execution_count": null,
   "id": "d5194733",
   "metadata": {},
   "outputs": [],
   "source": []
  }
 ],
 "metadata": {
  "kernelspec": {
   "display_name": "Python 3 (ipykernel)",
   "language": "python",
   "name": "python3"
  },
  "language_info": {
   "codemirror_mode": {
    "name": "ipython",
    "version": 3
   },
   "file_extension": ".py",
   "mimetype": "text/x-python",
   "name": "python",
   "nbconvert_exporter": "python",
   "pygments_lexer": "ipython3",
   "version": "3.9.13"
  }
 },
 "nbformat": 4,
 "nbformat_minor": 5
}
