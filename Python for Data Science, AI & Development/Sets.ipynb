{
 "cells": [
  {
   "cell_type": "markdown",
   "id": "d0269ed2",
   "metadata": {},
   "source": [
    "# Sets"
   ]
  },
  {
   "cell_type": "code",
   "execution_count": null,
   "id": "b078cc1e",
   "metadata": {},
   "outputs": [],
   "source": []
  },
  {
   "cell_type": "code",
   "execution_count": 1,
   "id": "2323b2b8",
   "metadata": {},
   "outputs": [
    {
     "data": {
      "text/plain": [
       "['M J', 'Thriller', 'Thriller', 1982]"
      ]
     },
     "execution_count": 1,
     "metadata": {},
     "output_type": "execute_result"
    }
   ],
   "source": [
    "album_list=['M J','Thriller','Thriller',1982]\n",
    "album_list"
   ]
  },
  {
   "cell_type": "code",
   "execution_count": 2,
   "id": "36ba644c",
   "metadata": {},
   "outputs": [
    {
     "data": {
      "text/plain": [
       "{1982, 'M J', 'Thriller'}"
      ]
     },
     "execution_count": 2,
     "metadata": {},
     "output_type": "execute_result"
    }
   ],
   "source": [
    "album_set=set(album_list)\n",
    "album_set"
   ]
  },
  {
   "cell_type": "code",
   "execution_count": null,
   "id": "7040ef4f",
   "metadata": {},
   "outputs": [],
   "source": []
  },
  {
   "cell_type": "code",
   "execution_count": 3,
   "id": "1114fde5",
   "metadata": {},
   "outputs": [
    {
     "data": {
      "text/plain": [
       "set"
      ]
     },
     "execution_count": 3,
     "metadata": {},
     "output_type": "execute_result"
    }
   ],
   "source": [
    "type(set([1,2,3]))"
   ]
  },
  {
   "cell_type": "code",
   "execution_count": null,
   "id": "cec46855",
   "metadata": {},
   "outputs": [],
   "source": []
  },
  {
   "cell_type": "code",
   "execution_count": 5,
   "id": "9ce76cf7",
   "metadata": {},
   "outputs": [
    {
     "data": {
      "text/plain": [
       "{'AD/DC', 'Bank in Black', 'Thriller'}"
      ]
     },
     "execution_count": 5,
     "metadata": {},
     "output_type": "execute_result"
    }
   ],
   "source": [
    "a={'Thriller','Bank in Black','AD/DC'}\n",
    "a"
   ]
  },
  {
   "cell_type": "code",
   "execution_count": 6,
   "id": "57805a27",
   "metadata": {},
   "outputs": [],
   "source": [
    "a.add(\"NSYNC\")"
   ]
  },
  {
   "cell_type": "code",
   "execution_count": 7,
   "id": "a9b7c95c",
   "metadata": {},
   "outputs": [
    {
     "data": {
      "text/plain": [
       "{'AD/DC', 'Bank in Black', 'NSYNC', 'Thriller'}"
      ]
     },
     "execution_count": 7,
     "metadata": {},
     "output_type": "execute_result"
    }
   ],
   "source": [
    "a"
   ]
  },
  {
   "cell_type": "code",
   "execution_count": 8,
   "id": "d4c80f5a",
   "metadata": {},
   "outputs": [],
   "source": [
    "a.add(\"NSYNC\")"
   ]
  },
  {
   "cell_type": "code",
   "execution_count": 9,
   "id": "b7829fc6",
   "metadata": {},
   "outputs": [
    {
     "data": {
      "text/plain": [
       "{'AD/DC', 'Bank in Black', 'NSYNC', 'Thriller'}"
      ]
     },
     "execution_count": 9,
     "metadata": {},
     "output_type": "execute_result"
    }
   ],
   "source": [
    "a"
   ]
  },
  {
   "cell_type": "code",
   "execution_count": 10,
   "id": "f4fe6803",
   "metadata": {},
   "outputs": [],
   "source": [
    "a.remove(\"NSYNC\")"
   ]
  },
  {
   "cell_type": "code",
   "execution_count": 11,
   "id": "d72e56c0",
   "metadata": {},
   "outputs": [
    {
     "data": {
      "text/plain": [
       "{'AD/DC', 'Bank in Black', 'Thriller'}"
      ]
     },
     "execution_count": 11,
     "metadata": {},
     "output_type": "execute_result"
    }
   ],
   "source": [
    "a"
   ]
  },
  {
   "cell_type": "code",
   "execution_count": 12,
   "id": "4df081b1",
   "metadata": {},
   "outputs": [
    {
     "data": {
      "text/plain": [
       "True"
      ]
     },
     "execution_count": 12,
     "metadata": {},
     "output_type": "execute_result"
    }
   ],
   "source": [
    "'AD/DC' in a"
   ]
  },
  {
   "cell_type": "code",
   "execution_count": 13,
   "id": "29263acc",
   "metadata": {},
   "outputs": [
    {
     "data": {
      "text/plain": [
       "False"
      ]
     },
     "execution_count": 13,
     "metadata": {},
     "output_type": "execute_result"
    }
   ],
   "source": [
    "'who' in a"
   ]
  },
  {
   "cell_type": "code",
   "execution_count": 16,
   "id": "2e37d620",
   "metadata": {},
   "outputs": [
    {
     "data": {
      "text/plain": [
       "{'AD/DC', 'Bank in Black', 'Thriller'}"
      ]
     },
     "execution_count": 16,
     "metadata": {},
     "output_type": "execute_result"
    }
   ],
   "source": [
    "album_set_1={'AD/DC', 'Bank in Black', 'Thriller'}\n",
    "album_set_1"
   ]
  },
  {
   "cell_type": "code",
   "execution_count": 18,
   "id": "91f19bb4",
   "metadata": {},
   "outputs": [
    {
     "data": {
      "text/plain": [
       "{'AD/DC', 'Bank in Black', 'The dark side of the moon'}"
      ]
     },
     "execution_count": 18,
     "metadata": {},
     "output_type": "execute_result"
    }
   ],
   "source": [
    "album_set_2={'AD/DC', 'Bank in Black', 'The dark side of the moon'}\n",
    "album_set_2"
   ]
  },
  {
   "cell_type": "code",
   "execution_count": 19,
   "id": "6b3de866",
   "metadata": {},
   "outputs": [
    {
     "data": {
      "text/plain": [
       "{'AD/DC', 'Bank in Black'}"
      ]
     },
     "execution_count": 19,
     "metadata": {},
     "output_type": "execute_result"
    }
   ],
   "source": [
    "album_set_1 & album_set_2"
   ]
  },
  {
   "cell_type": "code",
   "execution_count": 21,
   "id": "862a900d",
   "metadata": {},
   "outputs": [
    {
     "data": {
      "text/plain": [
       "{'AD/DC', 'Bank in Black'}"
      ]
     },
     "execution_count": 21,
     "metadata": {},
     "output_type": "execute_result"
    }
   ],
   "source": [
    "album_set_3 =  album_set_1 & album_set_2\n",
    "album_set_3"
   ]
  },
  {
   "cell_type": "code",
   "execution_count": 22,
   "id": "fb655546",
   "metadata": {},
   "outputs": [
    {
     "data": {
      "text/plain": [
       "True"
      ]
     },
     "execution_count": 22,
     "metadata": {},
     "output_type": "execute_result"
    }
   ],
   "source": [
    "album_set_3.issubset(album_set_1)"
   ]
  },
  {
   "cell_type": "code",
   "execution_count": null,
   "id": "614afd13",
   "metadata": {},
   "outputs": [],
   "source": []
  },
  {
   "cell_type": "code",
   "execution_count": 23,
   "id": "6ace4c66",
   "metadata": {},
   "outputs": [
    {
     "data": {
      "text/plain": [
       "dict_keys(['The Bodyguard', 'Saturday Night Fever'])"
      ]
     },
     "execution_count": 23,
     "metadata": {},
     "output_type": "execute_result"
    }
   ],
   "source": [
    "{ \"The Bodyguard\":\"1992\", \"Saturday Night Fever\":\"1977\"} .keys()"
   ]
  },
  {
   "cell_type": "code",
   "execution_count": null,
   "id": "d3158e72",
   "metadata": {},
   "outputs": [],
   "source": []
  }
 ],
 "metadata": {
  "kernelspec": {
   "display_name": "Python 3 (ipykernel)",
   "language": "python",
   "name": "python3"
  },
  "language_info": {
   "codemirror_mode": {
    "name": "ipython",
    "version": 3
   },
   "file_extension": ".py",
   "mimetype": "text/x-python",
   "name": "python",
   "nbconvert_exporter": "python",
   "pygments_lexer": "ipython3",
   "version": "3.9.13"
  }
 },
 "nbformat": 4,
 "nbformat_minor": 5
}
