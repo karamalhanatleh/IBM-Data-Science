{
 "cells": [
  {
   "cell_type": "markdown",
   "id": "92500a03",
   "metadata": {},
   "source": [
    "# Writing Files with Open\n"
   ]
  },
  {
   "cell_type": "code",
   "execution_count": 3,
   "id": "a0d78e22",
   "metadata": {},
   "outputs": [],
   "source": [
    "file1=open('files/Example2.txt','w')"
   ]
  },
  {
   "cell_type": "code",
   "execution_count": null,
   "id": "48e977a6",
   "metadata": {},
   "outputs": [],
   "source": []
  },
  {
   "cell_type": "code",
   "execution_count": 2,
   "id": "b8eaf0ed",
   "metadata": {},
   "outputs": [
    {
     "data": {
      "text/plain": [
       "15"
      ]
     },
     "execution_count": 2,
     "metadata": {},
     "output_type": "execute_result"
    }
   ],
   "source": [
    "file1.write(\"this is line A\\n\")"
   ]
  },
  {
   "cell_type": "code",
   "execution_count": 3,
   "id": "d871fc6c",
   "metadata": {},
   "outputs": [
    {
     "data": {
      "text/plain": [
       "15"
      ]
     },
     "execution_count": 3,
     "metadata": {},
     "output_type": "execute_result"
    }
   ],
   "source": [
    "file1.write(\"this is line B\\n\")"
   ]
  },
  {
   "cell_type": "code",
   "execution_count": 7,
   "id": "f9af5066",
   "metadata": {},
   "outputs": [],
   "source": [
    "### another solution\n",
    "lines=['this is line A\\n','this is line B\\n','this is line C\\n']\n",
    "with open('files/Example2.txt','w') as file1:\n",
    "    for line in lines:\n",
    "        file1.write(line)"
   ]
  },
  {
   "cell_type": "code",
   "execution_count": null,
   "id": "15596c3c",
   "metadata": {},
   "outputs": [],
   "source": []
  },
  {
   "cell_type": "code",
   "execution_count": 20,
   "id": "215d5b05",
   "metadata": {
    "scrolled": true
   },
   "outputs": [],
   "source": [
    "with open(\"files/Example2.txt\",'r') as readfile:\n",
    "    with open(\"files\\Example3.txt\",'w') as writefile:\n",
    "        for line in readfile:\n",
    "            writefile.write(line)"
   ]
  },
  {
   "cell_type": "code",
   "execution_count": 14,
   "id": "5188119b",
   "metadata": {
    "collapsed": true
   },
   "outputs": [
    {
     "data": {
      "text/plain": [
       "[0,\n",
       " 5,\n",
       " 10,\n",
       " 15,\n",
       " 20,\n",
       " 25,\n",
       " 30,\n",
       " 35,\n",
       " 40,\n",
       " 45,\n",
       " 50,\n",
       " 55,\n",
       " 60,\n",
       " 65,\n",
       " 70,\n",
       " 75,\n",
       " 80,\n",
       " 85,\n",
       " 90,\n",
       " 95,\n",
       " 100]"
      ]
     },
     "execution_count": 14,
     "metadata": {},
     "output_type": "execute_result"
    }
   ],
   "source": []
  },
  {
   "cell_type": "code",
   "execution_count": 18,
   "id": "0d1cf05f",
   "metadata": {},
   "outputs": [],
   "source": [
    "#ex\n",
    "\n",
    "### another solution\n",
    "numbers=list(range(0,105,5))\n",
    "\n",
    "with open('files/Example4.txt','w') as file4:\n",
    "    for n in numbers:\n",
    "        t=str(n)+\"\\n\"\n",
    "        file4.write(t)"
   ]
  },
  {
   "cell_type": "code",
   "execution_count": null,
   "id": "fb121544",
   "metadata": {},
   "outputs": [],
   "source": []
  }
 ],
 "metadata": {
  "kernelspec": {
   "display_name": "Python 3 (ipykernel)",
   "language": "python",
   "name": "python3"
  },
  "language_info": {
   "codemirror_mode": {
    "name": "ipython",
    "version": 3
   },
   "file_extension": ".py",
   "mimetype": "text/x-python",
   "name": "python",
   "nbconvert_exporter": "python",
   "pygments_lexer": "ipython3",
   "version": "3.9.13"
  }
 },
 "nbformat": 4,
 "nbformat_minor": 5
}
