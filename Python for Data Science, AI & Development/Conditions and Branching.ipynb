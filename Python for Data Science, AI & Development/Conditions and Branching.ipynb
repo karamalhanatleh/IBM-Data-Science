{
 "cells": [
  {
   "cell_type": "markdown",
   "id": "18f02bec",
   "metadata": {},
   "source": [
    "# Conditions and Branching\n"
   ]
  },
  {
   "cell_type": "code",
   "execution_count": null,
   "id": "50b9d5da",
   "metadata": {},
   "outputs": [],
   "source": []
  },
  {
   "cell_type": "markdown",
   "id": "c90e02cb",
   "metadata": {},
   "source": [
    "### comparision oprtators"
   ]
  },
  {
   "cell_type": "code",
   "execution_count": 2,
   "id": "07c48e25",
   "metadata": {},
   "outputs": [
    {
     "data": {
      "text/plain": [
       "6"
      ]
     },
     "execution_count": 2,
     "metadata": {},
     "output_type": "execute_result"
    }
   ],
   "source": [
    "a=6\n",
    "a"
   ]
  },
  {
   "cell_type": "code",
   "execution_count": 3,
   "id": "d6506d09",
   "metadata": {},
   "outputs": [
    {
     "data": {
      "text/plain": [
       "False"
      ]
     },
     "execution_count": 3,
     "metadata": {},
     "output_type": "execute_result"
    }
   ],
   "source": [
    "a==7"
   ]
  },
  {
   "cell_type": "code",
   "execution_count": 4,
   "id": "b9554478",
   "metadata": {},
   "outputs": [
    {
     "data": {
      "text/plain": [
       "True"
      ]
     },
     "execution_count": 4,
     "metadata": {},
     "output_type": "execute_result"
    }
   ],
   "source": [
    "a==6"
   ]
  },
  {
   "cell_type": "code",
   "execution_count": 5,
   "id": "1a58f086",
   "metadata": {},
   "outputs": [
    {
     "data": {
      "text/plain": [
       "True"
      ]
     },
     "execution_count": 5,
     "metadata": {},
     "output_type": "execute_result"
    }
   ],
   "source": [
    "i=6\n",
    "i>5"
   ]
  },
  {
   "cell_type": "code",
   "execution_count": 6,
   "id": "e2779438",
   "metadata": {},
   "outputs": [
    {
     "data": {
      "text/plain": [
       "True"
      ]
     },
     "execution_count": 6,
     "metadata": {},
     "output_type": "execute_result"
    }
   ],
   "source": [
    "i>=5"
   ]
  },
  {
   "cell_type": "code",
   "execution_count": 7,
   "id": "c88a1306",
   "metadata": {},
   "outputs": [
    {
     "data": {
      "text/plain": [
       "True"
      ]
     },
     "execution_count": 7,
     "metadata": {},
     "output_type": "execute_result"
    }
   ],
   "source": [
    "i=2\n",
    "i!=6"
   ]
  },
  {
   "cell_type": "code",
   "execution_count": null,
   "id": "2fd9458f",
   "metadata": {},
   "outputs": [],
   "source": []
  },
  {
   "cell_type": "markdown",
   "id": "59395277",
   "metadata": {},
   "source": [
    "## if statment"
   ]
  },
  {
   "cell_type": "code",
   "execution_count": 9,
   "id": "5bce8176",
   "metadata": {},
   "outputs": [
    {
     "name": "stdout",
     "output_type": "stream",
     "text": [
      "you can enter\n",
      "move on\n"
     ]
    }
   ],
   "source": [
    "age=20\n",
    "if(age>18):\n",
    "    print('you can enter')\n",
    "print('move on')"
   ]
  },
  {
   "cell_type": "code",
   "execution_count": 10,
   "id": "41a91f0d",
   "metadata": {},
   "outputs": [
    {
     "name": "stdout",
     "output_type": "stream",
     "text": [
      "move on\n"
     ]
    }
   ],
   "source": [
    "age=17\n",
    "if(age>18):\n",
    "    print('you can enter')\n",
    "print('move on')"
   ]
  },
  {
   "cell_type": "code",
   "execution_count": null,
   "id": "0c61ec8a",
   "metadata": {},
   "outputs": [],
   "source": []
  },
  {
   "cell_type": "markdown",
   "id": "b2b0f7f8",
   "metadata": {},
   "source": [
    "### the  else statment"
   ]
  },
  {
   "cell_type": "code",
   "execution_count": 12,
   "id": "2076f902",
   "metadata": {},
   "outputs": [
    {
     "name": "stdout",
     "output_type": "stream",
     "text": [
      "go see meat loaf\n",
      "move on\n"
     ]
    }
   ],
   "source": [
    "age=17\n",
    "if(age>18):\n",
    "    print('you can enter')\n",
    "else:\n",
    "    print(\"go see meat loaf\")\n",
    "print('move on')"
   ]
  },
  {
   "cell_type": "code",
   "execution_count": 13,
   "id": "9b3a3b99",
   "metadata": {},
   "outputs": [
    {
     "name": "stdout",
     "output_type": "stream",
     "text": [
      "you can enter\n",
      "move on\n"
     ]
    }
   ],
   "source": [
    "age=19\n",
    "if(age>18):\n",
    "    print('you can enter')\n",
    "else:\n",
    "    print(\"go see meat loaf\")\n",
    "print('move on')"
   ]
  },
  {
   "cell_type": "code",
   "execution_count": null,
   "id": "8a03b945",
   "metadata": {},
   "outputs": [],
   "source": []
  },
  {
   "cell_type": "markdown",
   "id": "dbcb5e03",
   "metadata": {},
   "source": [
    "### the elif statment"
   ]
  },
  {
   "cell_type": "code",
   "execution_count": 16,
   "id": "464f99ff",
   "metadata": {},
   "outputs": [
    {
     "name": "stdout",
     "output_type": "stream",
     "text": [
      "goo see pink floyd\n",
      "move on\n"
     ]
    }
   ],
   "source": [
    "age=18\n",
    "\n",
    "if(age>18):\n",
    "    print('you can enter')\n",
    "elif(age ==18):\n",
    "    print(\"goo see pink floyd\")\n",
    "else:\n",
    "    print(\"go see meat loaf\")\n",
    "print('move on')"
   ]
  },
  {
   "cell_type": "code",
   "execution_count": 17,
   "id": "8ea836b3",
   "metadata": {},
   "outputs": [
    {
     "name": "stdout",
     "output_type": "stream",
     "text": [
      "you can enter\n",
      "move on\n"
     ]
    }
   ],
   "source": [
    "age=19\n",
    "if(age>18):\n",
    "    print('you can enter')\n",
    "elif(age ==18):\n",
    "    print(\"goo see pink floyd\")\n",
    "else:\n",
    "    print(\"go see meat loaf\")\n",
    "print('move on')"
   ]
  },
  {
   "cell_type": "code",
   "execution_count": null,
   "id": "310127d6",
   "metadata": {},
   "outputs": [],
   "source": []
  },
  {
   "cell_type": "code",
   "execution_count": null,
   "id": "1d0640d9",
   "metadata": {},
   "outputs": [],
   "source": [
    "\n"
   ]
  },
  {
   "cell_type": "markdown",
   "id": "b5aee5f4",
   "metadata": {},
   "source": [
    "## logic operators"
   ]
  },
  {
   "cell_type": "code",
   "execution_count": 19,
   "id": "7197d48f",
   "metadata": {},
   "outputs": [
    {
     "data": {
      "text/plain": [
       "False"
      ]
     },
     "execution_count": 19,
     "metadata": {},
     "output_type": "execute_result"
    }
   ],
   "source": [
    "not(True)"
   ]
  },
  {
   "cell_type": "code",
   "execution_count": 21,
   "id": "edb159d0",
   "metadata": {},
   "outputs": [
    {
     "data": {
      "text/plain": [
       "True"
      ]
     },
     "execution_count": 21,
     "metadata": {},
     "output_type": "execute_result"
    }
   ],
   "source": [
    "not(0)"
   ]
  },
  {
   "cell_type": "code",
   "execution_count": null,
   "id": "96a2aa76",
   "metadata": {},
   "outputs": [],
   "source": []
  },
  {
   "cell_type": "code",
   "execution_count": 28,
   "id": "fe6d5350",
   "metadata": {},
   "outputs": [
    {
     "data": {
      "text/plain": [
       "1"
      ]
     },
     "execution_count": 28,
     "metadata": {},
     "output_type": "execute_result"
    }
   ],
   "source": [
    "1 or 1"
   ]
  },
  {
   "cell_type": "code",
   "execution_count": 29,
   "id": "8a884294",
   "metadata": {},
   "outputs": [
    {
     "data": {
      "text/plain": [
       "1"
      ]
     },
     "execution_count": 29,
     "metadata": {},
     "output_type": "execute_result"
    }
   ],
   "source": [
    "1 or 0"
   ]
  },
  {
   "cell_type": "code",
   "execution_count": 30,
   "id": "c1371b1b",
   "metadata": {},
   "outputs": [
    {
     "data": {
      "text/plain": [
       "0"
      ]
     },
     "execution_count": 30,
     "metadata": {},
     "output_type": "execute_result"
    }
   ],
   "source": [
    "0 or 0"
   ]
  },
  {
   "cell_type": "code",
   "execution_count": null,
   "id": "6a39c298",
   "metadata": {},
   "outputs": [],
   "source": []
  },
  {
   "cell_type": "code",
   "execution_count": 31,
   "id": "cf57afc6",
   "metadata": {},
   "outputs": [
    {
     "name": "stdout",
     "output_type": "stream",
     "text": [
      "True\n"
     ]
    }
   ],
   "source": [
    "a=120\n",
    "if (a<150) or (a>200):\n",
    "    print(\"True\")"
   ]
  },
  {
   "cell_type": "code",
   "execution_count": 32,
   "id": "67fb9828",
   "metadata": {},
   "outputs": [
    {
     "data": {
      "text/plain": [
       "1"
      ]
     },
     "execution_count": 32,
     "metadata": {},
     "output_type": "execute_result"
    }
   ],
   "source": [
    "1 and 1"
   ]
  },
  {
   "cell_type": "code",
   "execution_count": 33,
   "id": "98762abf",
   "metadata": {},
   "outputs": [
    {
     "data": {
      "text/plain": [
       "0"
      ]
     },
     "execution_count": 33,
     "metadata": {},
     "output_type": "execute_result"
    }
   ],
   "source": [
    "1 and 0"
   ]
  },
  {
   "cell_type": "code",
   "execution_count": 35,
   "id": "cb40595d",
   "metadata": {},
   "outputs": [
    {
     "name": "stdout",
     "output_type": "stream",
     "text": [
      "false\n"
     ]
    }
   ],
   "source": [
    "a=120\n",
    "if (a<150) and (a>200):\n",
    "    print(\"True\")\n",
    "else: print(\"false\")"
   ]
  },
  {
   "cell_type": "code",
   "execution_count": null,
   "id": "2e3150b2",
   "metadata": {},
   "outputs": [],
   "source": []
  }
 ],
 "metadata": {
  "kernelspec": {
   "display_name": "Python 3 (ipykernel)",
   "language": "python",
   "name": "python3"
  },
  "language_info": {
   "codemirror_mode": {
    "name": "ipython",
    "version": 3
   },
   "file_extension": ".py",
   "mimetype": "text/x-python",
   "name": "python",
   "nbconvert_exporter": "python",
   "pygments_lexer": "ipython3",
   "version": "3.9.13"
  }
 },
 "nbformat": 4,
 "nbformat_minor": 5
}
