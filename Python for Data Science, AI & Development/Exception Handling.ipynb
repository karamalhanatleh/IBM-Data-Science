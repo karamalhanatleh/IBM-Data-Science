{
 "cells": [
  {
   "cell_type": "markdown",
   "id": "4e42e6f6",
   "metadata": {},
   "source": [
    "# Exception Handling\n"
   ]
  },
  {
   "cell_type": "code",
   "execution_count": null,
   "id": "856d6091",
   "metadata": {},
   "outputs": [],
   "source": []
  },
  {
   "cell_type": "code",
   "execution_count": 1,
   "id": "3ca7d0e0",
   "metadata": {},
   "outputs": [],
   "source": [
    "d=open(\"file.txt\",'w')"
   ]
  },
  {
   "cell_type": "code",
   "execution_count": 2,
   "id": "d35f0287",
   "metadata": {},
   "outputs": [
    {
     "data": {
      "text/plain": [
       "12"
      ]
     },
     "execution_count": 2,
     "metadata": {},
     "output_type": "execute_result"
    }
   ],
   "source": [
    "d.write(\"this is file\")"
   ]
  },
  {
   "cell_type": "code",
   "execution_count": 3,
   "id": "c3b118f7",
   "metadata": {},
   "outputs": [],
   "source": [
    "d.close()"
   ]
  },
  {
   "cell_type": "code",
   "execution_count": 8,
   "id": "f623ff28",
   "metadata": {},
   "outputs": [
    {
     "name": "stdout",
     "output_type": "stream",
     "text": [
      "the fies was written successfully\n"
     ]
    }
   ],
   "source": [
    "try:\n",
    "    getfile = open(\"file.txt\",'a+')\n",
    "    getfile.write(\" my file for exception handling \")\n",
    "except IOError:\n",
    "    print(\"unabl to open or read the data in files\")\n",
    "else:\n",
    "    print(\"the fies was written successfully\")"
   ]
  },
  {
   "cell_type": "code",
   "execution_count": 9,
   "id": "bda52e80",
   "metadata": {},
   "outputs": [
    {
     "name": "stdout",
     "output_type": "stream",
     "text": [
      "unabl to open or read the data in files\n"
     ]
    }
   ],
   "source": [
    "try:\n",
    "    getfile = open(\"file.txt\",'r')\n",
    "    getfile.write(\" my file for exception handling \")\n",
    "except IOError:\n",
    "    print(\"unabl to open or read the data in files\")\n",
    "else:\n",
    "    print(\"the fies was written successfully\")"
   ]
  },
  {
   "cell_type": "code",
   "execution_count": null,
   "id": "9a855ec7",
   "metadata": {},
   "outputs": [],
   "source": []
  },
  {
   "cell_type": "code",
   "execution_count": null,
   "id": "630799bd",
   "metadata": {},
   "outputs": [],
   "source": []
  }
 ],
 "metadata": {
  "kernelspec": {
   "display_name": "Python 3 (ipykernel)",
   "language": "python",
   "name": "python3"
  },
  "language_info": {
   "codemirror_mode": {
    "name": "ipython",
    "version": 3
   },
   "file_extension": ".py",
   "mimetype": "text/x-python",
   "name": "python",
   "nbconvert_exporter": "python",
   "pygments_lexer": "ipython3",
   "version": "3.9.13"
  }
 },
 "nbformat": 4,
 "nbformat_minor": 5
}
