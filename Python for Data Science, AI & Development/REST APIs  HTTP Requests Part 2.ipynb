{
 "cells": [
  {
   "cell_type": "markdown",
   "id": "06f59519",
   "metadata": {},
   "source": [
    "# REST APIs & HTTP Requests - Part 2\n"
   ]
  },
  {
   "cell_type": "code",
   "execution_count": 2,
   "id": "30f2e087",
   "metadata": {},
   "outputs": [],
   "source": [
    "#import \n",
    "import requests as req"
   ]
  },
  {
   "cell_type": "code",
   "execution_count": 6,
   "id": "33fc7414",
   "metadata": {},
   "outputs": [
    {
     "data": {
      "text/plain": [
       "<Response [200]>"
      ]
     },
     "execution_count": 6,
     "metadata": {},
     "output_type": "execute_result"
    }
   ],
   "source": [
    "url = 'https://www.ibm.com/'\n",
    "r=req.get(url)\n",
    "r"
   ]
  },
  {
   "cell_type": "code",
   "execution_count": 7,
   "id": "f66479a9",
   "metadata": {},
   "outputs": [
    {
     "data": {
      "text/plain": [
       "200"
      ]
     },
     "execution_count": 7,
     "metadata": {},
     "output_type": "execute_result"
    }
   ],
   "source": [
    "r.status_code"
   ]
  },
  {
   "cell_type": "code",
   "execution_count": 9,
   "id": "b127d826",
   "metadata": {},
   "outputs": [
    {
     "data": {
      "text/plain": [
       "{'User-Agent': 'python-requests/2.28.1', 'Accept-Encoding': 'gzip, deflate, br', 'Accept': '*/*', 'Connection': 'keep-alive', 'Cookie': '_abck=97DEC492496C7999846790A21390B7B7~-1~YAAQJDwSAhKMcDSGAQAA63xAiAmqv1O1MjMkgYWbbzSgiD42jk0FNlYP1AHs5Kuuxzf32BfCYuaJ/+4vYV6Op5Qas7hm4IVe/2aBMlyRwJKzg2rEyokboMgJ0vC/TuxyrUooVTHUom2wRErbMqeSlXqfI4BDkxoN14s4hZbB+t2hiJMI8RKsm+6liP7SaEeqkBI+f3R1pKJap2ddKRPMUTJx+liOegMdoElqw6NxqomfEWjO8ji3SDE3qvYWRwUoTxxN06du2uO/bPeSNCOkTX72nocMMsXN3LtvEzHOLGfpWK+5IdNvLMfCIbN/csgMBviJa4vwROYaTk6IYcMXCicPsImKUwzQQWzgcoaP/z2HkmlJwCQ=~-1~-1~-1; bm_sz=FA00833064F0E7DFE2887F789927BD4C~YAAQJDwSAhOMcDSGAQAA63xAiBIdkt+OViIGkmtkF+3QUCpnA2k+kw9jOpTmD9ASBodtJ+DJzjE9Wy1hohNS5EVjEzECmtKHeBNlxmFZCtaRoI3t5Gi7s02fSEHLvVj/ihHbha0t9ZfatAbj4blIW09ysedmns0Hj6jfmvapVcMfmFCbGL0grg0LYWEGCse7hOZrDS44KxjcJE3d+f57iNTocZknRcezqdF0HV3n/3u/M1iCA61UyWDez87a1yQYeC6H7FQQjnljLPbQ2fxCuI40vGj7wRzB3Bg8MZF6h8M=~4339762~4534833'}"
      ]
     },
     "execution_count": 9,
     "metadata": {},
     "output_type": "execute_result"
    }
   ],
   "source": [
    "r.request.headers"
   ]
  },
  {
   "cell_type": "code",
   "execution_count": 11,
   "id": "d4128d42",
   "metadata": {},
   "outputs": [],
   "source": [
    "r.request.body"
   ]
  },
  {
   "cell_type": "code",
   "execution_count": null,
   "id": "47845780",
   "metadata": {},
   "outputs": [],
   "source": []
  },
  {
   "cell_type": "code",
   "execution_count": 12,
   "id": "2512bc85",
   "metadata": {},
   "outputs": [
    {
     "data": {
      "text/plain": [
       "{'Server': 'Apache', 'Last-Modified': 'Wed, 22 Feb 2023 18:05:45 GMT', 'ETag': '\"12725-5f54dbec5eaca-gzip\"', 'Accept-Ranges': 'bytes', 'Content-Type': 'text/html', 'Cache-Control': 'max-age=3600', 'Expires': 'Sat, 25 Feb 2023 12:06:13 GMT', 'X-Akamai-Transformed': '9 16754 0 pmb=mTOE,2', 'Content-Encoding': 'gzip', 'Date': 'Sat, 25 Feb 2023 11:06:13 GMT', 'Transfer-Encoding': 'chunked', 'Connection': 'keep-alive, Transfer-Encoding', 'Vary': 'Accept-Encoding', 'x-content-type-options': 'nosniff', 'X-XSS-Protection': '1; mode=block', 'Content-Security-Policy': 'upgrade-insecure-requests', 'Strict-Transport-Security': 'max-age=31536000'}"
      ]
     },
     "execution_count": 12,
     "metadata": {},
     "output_type": "execute_result"
    }
   ],
   "source": [
    "header = r.headers\n",
    "header"
   ]
  },
  {
   "cell_type": "code",
   "execution_count": 13,
   "id": "272eff23",
   "metadata": {},
   "outputs": [
    {
     "data": {
      "text/plain": [
       "KeysView({'Server': 'Apache', 'Last-Modified': 'Wed, 22 Feb 2023 18:05:45 GMT', 'ETag': '\"12725-5f54dbec5eaca-gzip\"', 'Accept-Ranges': 'bytes', 'Content-Type': 'text/html', 'Cache-Control': 'max-age=3600', 'Expires': 'Sat, 25 Feb 2023 12:06:13 GMT', 'X-Akamai-Transformed': '9 16754 0 pmb=mTOE,2', 'Content-Encoding': 'gzip', 'Date': 'Sat, 25 Feb 2023 11:06:13 GMT', 'Transfer-Encoding': 'chunked', 'Connection': 'keep-alive, Transfer-Encoding', 'Vary': 'Accept-Encoding', 'x-content-type-options': 'nosniff', 'X-XSS-Protection': '1; mode=block', 'Content-Security-Policy': 'upgrade-insecure-requests', 'Strict-Transport-Security': 'max-age=31536000'})"
      ]
     },
     "execution_count": 13,
     "metadata": {},
     "output_type": "execute_result"
    }
   ],
   "source": [
    "header.keys()"
   ]
  },
  {
   "cell_type": "code",
   "execution_count": 14,
   "id": "84b88073",
   "metadata": {},
   "outputs": [
    {
     "data": {
      "text/plain": [
       "'Sat, 25 Feb 2023 11:06:13 GMT'"
      ]
     },
     "execution_count": 14,
     "metadata": {},
     "output_type": "execute_result"
    }
   ],
   "source": [
    "header['date']"
   ]
  },
  {
   "cell_type": "code",
   "execution_count": 15,
   "id": "0704c040",
   "metadata": {},
   "outputs": [
    {
     "data": {
      "text/plain": [
       "'text/html'"
      ]
     },
     "execution_count": 15,
     "metadata": {},
     "output_type": "execute_result"
    }
   ],
   "source": [
    "header['Content-Type']"
   ]
  },
  {
   "cell_type": "code",
   "execution_count": 16,
   "id": "fe0f3c68",
   "metadata": {},
   "outputs": [
    {
     "data": {
      "text/plain": [
       "'<!DOCTYPE html><html lang=\"en-US\"><head><meta name=\"viewport\" content=\"width=device-width\"/><meta ch'"
      ]
     },
     "execution_count": 16,
     "metadata": {},
     "output_type": "execute_result"
    }
   ],
   "source": [
    "r.text[:100]"
   ]
  },
  {
   "cell_type": "code",
   "execution_count": null,
   "id": "189d902a",
   "metadata": {},
   "outputs": [],
   "source": []
  },
  {
   "cell_type": "code",
   "execution_count": 17,
   "id": "f9de9042",
   "metadata": {},
   "outputs": [],
   "source": [
    "#########################################################################################"
   ]
  },
  {
   "cell_type": "code",
   "execution_count": null,
   "id": "6b206a68",
   "metadata": {},
   "outputs": [],
   "source": []
  },
  {
   "cell_type": "code",
   "execution_count": 18,
   "id": "e6388737",
   "metadata": {},
   "outputs": [],
   "source": [
    "url_get = \"http://httpbin.org/get\"\n",
    "payload ={'name':'Joseph',\"ID\":\"123\"}"
   ]
  },
  {
   "cell_type": "code",
   "execution_count": 19,
   "id": "9f38354c",
   "metadata": {},
   "outputs": [
    {
     "data": {
      "text/plain": [
       "<Response [200]>"
      ]
     },
     "execution_count": 19,
     "metadata": {},
     "output_type": "execute_result"
    }
   ],
   "source": [
    "r=  req.get(url_get , params=payload)\n",
    "r"
   ]
  },
  {
   "cell_type": "code",
   "execution_count": 21,
   "id": "c5e98b64",
   "metadata": {},
   "outputs": [
    {
     "data": {
      "text/plain": [
       "<bound method Mapping.values of {'Date': 'Sat, 25 Feb 2023 11:16:41 GMT', 'Content-Type': 'application/json', 'Content-Length': '402', 'Connection': 'keep-alive', 'Server': 'gunicorn/19.9.0', 'Access-Control-Allow-Origin': '*', 'Access-Control-Allow-Credentials': 'true'}>"
      ]
     },
     "execution_count": 21,
     "metadata": {},
     "output_type": "execute_result"
    }
   ],
   "source": []
  },
  {
   "cell_type": "code",
   "execution_count": 22,
   "id": "44a0c928",
   "metadata": {},
   "outputs": [
    {
     "data": {
      "text/plain": [
       "'http://httpbin.org/get?name=Joseph&ID=123'"
      ]
     },
     "execution_count": 22,
     "metadata": {},
     "output_type": "execute_result"
    }
   ],
   "source": [
    "r.url"
   ]
  },
  {
   "cell_type": "code",
   "execution_count": 23,
   "id": "16d05294",
   "metadata": {},
   "outputs": [],
   "source": [
    "r.request.body"
   ]
  },
  {
   "cell_type": "code",
   "execution_count": 24,
   "id": "8b3b948f",
   "metadata": {},
   "outputs": [
    {
     "data": {
      "text/plain": [
       "200"
      ]
     },
     "execution_count": 24,
     "metadata": {},
     "output_type": "execute_result"
    }
   ],
   "source": [
    "r.status_code"
   ]
  },
  {
   "cell_type": "code",
   "execution_count": 25,
   "id": "efff8f8a",
   "metadata": {},
   "outputs": [
    {
     "data": {
      "text/plain": [
       "'{\\n  \"args\": {\\n    \"ID\": \"123\", \\n    \"name\": \"Joseph\"\\n  }, \\n  \"headers\": {\\n    \"Accept\": \"*/*\", \\n    \"Accept-Encoding\": \"gzip, deflate, br\", \\n    \"Host\": \"httpbin.org\", \\n    \"Msisdn\": \"962778561973\", \\n    \"User-Agent\": \"python-requests/2.28.1\", \\n    \"X-Amzn-Trace-Id\": \"Root=1-63f9ee19-48f70777701f756233dfb888\"\\n  }, \\n  \"origin\": \"212.34.23.118\", \\n  \"url\": \"http://httpbin.org/get?name=Joseph&ID=123\"\\n}\\n'"
      ]
     },
     "execution_count": 25,
     "metadata": {},
     "output_type": "execute_result"
    }
   ],
   "source": [
    "r.text"
   ]
  },
  {
   "cell_type": "code",
   "execution_count": 26,
   "id": "19cf6819",
   "metadata": {},
   "outputs": [
    {
     "data": {
      "text/plain": [
       "'application/json'"
      ]
     },
     "execution_count": 26,
     "metadata": {},
     "output_type": "execute_result"
    }
   ],
   "source": [
    "r.headers['Content-Type']"
   ]
  },
  {
   "cell_type": "code",
   "execution_count": 27,
   "id": "63366a9f",
   "metadata": {},
   "outputs": [
    {
     "data": {
      "text/plain": [
       "{'args': {'ID': '123', 'name': 'Joseph'},\n",
       " 'headers': {'Accept': '*/*',\n",
       "  'Accept-Encoding': 'gzip, deflate, br',\n",
       "  'Host': 'httpbin.org',\n",
       "  'Msisdn': '962778561973',\n",
       "  'User-Agent': 'python-requests/2.28.1',\n",
       "  'X-Amzn-Trace-Id': 'Root=1-63f9ee19-48f70777701f756233dfb888'},\n",
       " 'origin': '212.34.23.118',\n",
       " 'url': 'http://httpbin.org/get?name=Joseph&ID=123'}"
      ]
     },
     "execution_count": 27,
     "metadata": {},
     "output_type": "execute_result"
    }
   ],
   "source": [
    "r.json()"
   ]
  },
  {
   "cell_type": "code",
   "execution_count": 28,
   "id": "d23c1f28",
   "metadata": {},
   "outputs": [
    {
     "data": {
      "text/plain": [
       "{'ID': '123', 'name': 'Joseph'}"
      ]
     },
     "execution_count": 28,
     "metadata": {},
     "output_type": "execute_result"
    }
   ],
   "source": [
    "r.json()['args']"
   ]
  },
  {
   "cell_type": "code",
   "execution_count": null,
   "id": "eb9aa0c6",
   "metadata": {},
   "outputs": [],
   "source": []
  },
  {
   "cell_type": "code",
   "execution_count": null,
   "id": "363c5d7c",
   "metadata": {},
   "outputs": [],
   "source": []
  },
  {
   "cell_type": "code",
   "execution_count": 29,
   "id": "31995066",
   "metadata": {},
   "outputs": [
    {
     "data": {
      "text/plain": [
       "<Response [200]>"
      ]
     },
     "execution_count": 29,
     "metadata": {},
     "output_type": "execute_result"
    }
   ],
   "source": [
    "url_post = \"http://httpbin.org/post\"\n",
    "payload={'name':\"Joseph\",\"ID\":\"123\"}\n",
    "r_post = req.post(url_post , data=payload)\n",
    "r_post"
   ]
  },
  {
   "cell_type": "code",
   "execution_count": null,
   "id": "f4ec9f43",
   "metadata": {},
   "outputs": [],
   "source": []
  },
  {
   "cell_type": "code",
   "execution_count": 30,
   "id": "fd28b50d",
   "metadata": {},
   "outputs": [
    {
     "name": "stdout",
     "output_type": "stream",
     "text": [
      "POST request URL : http://httpbin.org/post\n",
      "GET request URL : http://httpbin.org/get?name=Joseph&ID=123\n"
     ]
    }
   ],
   "source": [
    "print(\"POST request URL :\" ,r_post.url)\n",
    "print(\"GET request URL :\" ,r.url)"
   ]
  },
  {
   "cell_type": "code",
   "execution_count": null,
   "id": "9c0c7195",
   "metadata": {},
   "outputs": [],
   "source": []
  }
 ],
 "metadata": {
  "kernelspec": {
   "display_name": "Python 3 (ipykernel)",
   "language": "python",
   "name": "python3"
  },
  "language_info": {
   "codemirror_mode": {
    "name": "ipython",
    "version": 3
   },
   "file_extension": ".py",
   "mimetype": "text/x-python",
   "name": "python",
   "nbconvert_exporter": "python",
   "pygments_lexer": "ipython3",
   "version": "3.9.13"
  }
 },
 "nbformat": 4,
 "nbformat_minor": 5
}
