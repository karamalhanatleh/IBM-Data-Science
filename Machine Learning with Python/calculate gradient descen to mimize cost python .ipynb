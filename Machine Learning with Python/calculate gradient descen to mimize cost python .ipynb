{
 "cells": [
  {
   "cell_type": "markdown",
   "id": "a824b6d5",
   "metadata": {},
   "source": [
    "# calculate gradient descen to mimize cost python \n",
    "\n"
   ]
  },
  {
   "cell_type": "code",
   "execution_count": 1,
   "id": "6bc753cd",
   "metadata": {},
   "outputs": [
    {
     "name": "stdout",
     "output_type": "stream",
     "text": [
      "Slope (m): 0.8137325572753406\n",
      "Y-intercept (b): 1.7504211109191932\n"
     ]
    }
   ],
   "source": [
    "import numpy as np\n",
    "\n",
    "def gradient_descent(x, y, learning_rate, num_iterations):\n",
    "    num_samples = len(x)\n",
    "    m = 0  # initial slope\n",
    "    b = 0  # initial y-intercept\n",
    "\n",
    "    for i in range(num_iterations):\n",
    "        # Calculate predictions\n",
    "        y_pred = m * x + b\n",
    "\n",
    "        # Calculate gradients\n",
    "        m_gradient = (-2/num_samples) * np.sum(x * (y - y_pred))\n",
    "        b_gradient = (-2/num_samples) * np.sum(y - y_pred)\n",
    "\n",
    "        # Update parameters using gradients and learning rate\n",
    "        m -= learning_rate * m_gradient\n",
    "        b -= learning_rate * b_gradient\n",
    "\n",
    "    return m, b\n",
    "\n",
    "# Example usage\n",
    "x = np.array([1, 2, 3, 4, 5])\n",
    "y = np.array([2, 4, 5, 4, 6])\n",
    "\n",
    "learning_rate = 0.01\n",
    "num_iterations = 1000\n",
    "\n",
    "m, b = gradient_descent(x, y, learning_rate, num_iterations)\n",
    "print(\"Slope (m):\", m)\n",
    "print(\"Y-intercept (b):\", b)\n"
   ]
  },
  {
   "cell_type": "code",
   "execution_count": null,
   "id": "a0cea53c",
   "metadata": {},
   "outputs": [],
   "source": []
  }
 ],
 "metadata": {
  "kernelspec": {
   "display_name": "Python 3 (ipykernel)",
   "language": "python",
   "name": "python3"
  },
  "language_info": {
   "codemirror_mode": {
    "name": "ipython",
    "version": 3
   },
   "file_extension": ".py",
   "mimetype": "text/x-python",
   "name": "python",
   "nbconvert_exporter": "python",
   "pygments_lexer": "ipython3",
   "version": "3.9.13"
  }
 },
 "nbformat": 4,
 "nbformat_minor": 5
}
